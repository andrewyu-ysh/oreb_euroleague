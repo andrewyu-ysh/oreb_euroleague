{
 "cells": [
  {
   "cell_type": "markdown",
   "metadata": {
    "deletable": true,
    "editable": true
   },
   "source": [
    "# EuroLeague 2015-16 Season: Offensive Rebounding\n",
    "\n",
    "Combined file for easier analysis"
   ]
  },
  {
   "cell_type": "markdown",
   "metadata": {
    "deletable": true,
    "editable": true
   },
   "source": [
    "389 players listed, 353 got playing time (had a pbp event involving them)"
   ]
  },
  {
   "cell_type": "code",
   "execution_count": 1,
   "metadata": {
    "collapsed": true,
    "deletable": true,
    "editable": true
   },
   "outputs": [],
   "source": [
    "%matplotlib inline\n",
    "\n",
    "import matplotlib\n",
    "import matplotlib.pyplot as plt\n",
    "import matplotlib.patches as mpatches\n",
    "import matplotlib.cm as cm\n",
    "from matplotlib.lines import Line2D\n",
    "from matplotlib.patches import Wedge\n",
    "from matplotlib.patches import Polygon\n",
    "from matplotlib.collections import PatchCollection\n",
    "\n",
    "\n",
    "import matplotlib.pylab as pylab\n",
    "params = {'legend.fontsize': 'x-large',\n",
    "          'figure.figsize': (15, 5),\n",
    "         'axes.labelsize': 'x-large',\n",
    "         'axes.titlesize':'x-large',\n",
    "         'xtick.labelsize':'x-large',\n",
    "         'ytick.labelsize':'x-large'}\n",
    "pylab.rcParams.update(params)"
   ]
  },
  {
   "cell_type": "code",
   "execution_count": 2,
   "metadata": {
    "collapsed": false,
    "deletable": true,
    "editable": true
   },
   "outputs": [],
   "source": [
    "import csv\n",
    "from tabulate import tabulate\n",
    "import numpy as np\n",
    "from scipy.spatial import distance\n",
    "from collections import Counter\n",
    "from pprint import pprint\n",
    "from IPython.display import Image"
   ]
  },
  {
   "cell_type": "code",
   "execution_count": 3,
   "metadata": {
    "collapsed": true,
    "deletable": true,
    "editable": true
   },
   "outputs": [],
   "source": [
    "f = open('pbp.csv', 'r')\n",
    "reader = csv.DictReader(f, delimiter=',', quotechar='\"')\n",
    "pbp=[]\n",
    "for line in reader:\n",
    "    pbp.append(line)\n",
    "f.close()"
   ]
  },
  {
   "cell_type": "code",
   "execution_count": 4,
   "metadata": {
    "collapsed": true,
    "deletable": true,
    "editable": true
   },
   "outputs": [],
   "source": [
    "f = open('roster.csv', 'r')\n",
    "reader = csv.DictReader(f, delimiter=',', quotechar='\"')\n",
    "roster=[]\n",
    "for line in reader:\n",
    "    roster.append(line)\n",
    "f.close()"
   ]
  },
  {
   "cell_type": "markdown",
   "metadata": {
    "deletable": true,
    "editable": true
   },
   "source": [
    "## Housekeeping / Basic Stats\n",
    "(prefer roster dictionary for overlapping data)"
   ]
  },
  {
   "cell_type": "code",
   "execution_count": 5,
   "metadata": {
    "collapsed": false,
    "deletable": true,
    "editable": true
   },
   "outputs": [
    {
     "data": {
      "text/plain": [
       "250"
      ]
     },
     "execution_count": 5,
     "metadata": {},
     "output_type": "execute_result"
    }
   ],
   "source": [
    "gamecodes=[]\n",
    "for r in roster:\n",
    "    if r['gamecode'] not in gamecodes:\n",
    "        gamecodes.append(r['gamecode'])\n",
    "len(gamecodes)"
   ]
  },
  {
   "cell_type": "code",
   "execution_count": 6,
   "metadata": {
    "collapsed": false,
    "deletable": true,
    "editable": true
   },
   "outputs": [
    {
     "data": {
      "text/plain": [
       "25"
      ]
     },
     "execution_count": 6,
     "metadata": {},
     "output_type": "execute_result"
    }
   ],
   "source": [
    "### DICTIONARY: KEY=abbrev VALUE=fullname\n",
    "### e.g. team_names['ULK'] = 'Fenerbahce Istanbul'\n",
    "team_names={}\n",
    "for r in pbp:\n",
    "    if r['team_id'] not in team_names:\n",
    "        team_names[r['team_id']] = r['team_name']\n",
    "    else:\n",
    "        if team_names[r['team_id']] != r['team_name']:\n",
    "            print('ERROR')\n",
    "len(team_names)"
   ]
  },
  {
   "cell_type": "code",
   "execution_count": 7,
   "metadata": {
    "collapsed": false,
    "deletable": true,
    "editable": true,
    "scrolled": true
   },
   "outputs": [
    {
     "data": {
      "text/plain": [
       "24"
      ]
     },
     "execution_count": 7,
     "metadata": {},
     "output_type": "execute_result"
    }
   ],
   "source": [
    "team_ids = []\n",
    "for key in team_names:\n",
    "    if key != '':\n",
    "        team_ids.append(key)\n",
    "len(team_ids)"
   ]
  },
  {
   "cell_type": "code",
   "execution_count": 8,
   "metadata": {
    "collapsed": false,
    "deletable": true,
    "editable": true,
    "scrolled": false
   },
   "outputs": [
    {
     "name": "stdout",
     "output_type": "stream",
     "text": [
      "dupe team for PKJP add TEL -> ['RED']\n",
      "dupe name for P005983 add YURTSEVEN, OMER -> ['YURTSEVEN, OMER FARUK']\n",
      "dupe name for P006648 add BAYKAN, OGULCAN -> ['BAYCAN OGULCAN']\n",
      "dupe name for P004264 add BOST, DEE -> ['BOST, DEMARQUIS']\n",
      "dupe name for P001389 add VORONOV, EVGENY -> ['VORONOV, EUGENY']\n",
      "dupe name for P005367 add UTA, CHISTIAN -> ['UTA, RARES']\n",
      "dupe team for P002580 add RED -> ['MUN']\n",
      "dupe team for P002429 add MAD -> ['MUN']\n",
      "dupe team for P003601 add PAN -> ['SAS']\n",
      "dupe name for P007016 add JOHNSON, ELIJAH -> ['JOHNSON, ELIJAH KWAME']\n"
     ]
    }
   ],
   "source": [
    "### player_infos: KEY=player_id; VALUE={dict}\n",
    "###                                 ['name'] = [all name variations] \n",
    "###                                 ['team'] = [multiple teams if traded mid-season]\n",
    "###                                 ['events'] = [all relevant pbps]\n",
    "\n",
    "### e.g. player_infos['P005983']['name'] == ['YURTSEVEN, OMER FARUK', 'YURTSEVEN, OMER']\n",
    "\n",
    "player_infos={}\n",
    "\n",
    "for r in roster:\n",
    "    if 'CO_' in r['player_id'] or r['player_id'] == '' or r['player_name'] == '': continue\n",
    "    if r['player_id'] not in player_infos:\n",
    "        player_infos[r['player_id']] = {}\n",
    "        player_infos[r['player_id']]['seconds'] = 0\n",
    "        player_infos[r['player_id']]['gamecodes_starter'] = {}\n",
    "        player_infos[r['player_id']]['gamecodes_bench'] = {}\n",
    "        player_infos[r['player_id']]['events'] = []\n",
    "        player_infos[r['player_id']]['team'] = []\n",
    "        player_infos[r['player_id']]['team'].append(r['team_id'])\n",
    "        player_infos[r['player_id']]['name'] = [] #multiple names\n",
    "        player_infos[r['player_id']]['name'].append(r['player_name'])\n",
    "\n",
    "    else:\n",
    "        if r['team_id'] not in player_infos[r['player_id']]['team']:\n",
    "            print('dupe team for', r['player_id'], 'add', r['team_id'], '->', player_infos[r['player_id']]['team'])\n",
    "            player_infos[r['player_id']]['team'].append(r['team_id'])\n",
    "        temp_name=r['player_name'].strip()\n",
    "        if temp_name not in player_infos[r['player_id']]['name']:\n",
    "            print('dupe name for', r['player_id'], 'add', temp_name, '->', player_infos[r['player_id']]['name'])\n",
    "            player_infos[r['player_id']]['name'].append(temp_name)\n",
    "    \n",
    "    #Additional feature would be to separate games/games_started_vs._benched/minutes per team for players with multiple teams in the same season, but left unresolved for simplicity. \n",
    "    if r['starter_flag'] == '1':\n",
    "        if float(r['mp_as_int']) != 0:\n",
    "            player_infos[r['player_id']]['gamecodes_starter'][r['gamecode']] = float(r['mp_as_int'])\n",
    "    elif r['starter_flag'] == '0':\n",
    "        if float(r['mp_as_int']) != 0:\n",
    "            player_infos[r['player_id']]['gamecodes_bench'][r['gamecode']] = float(r['mp_as_int'])\n",
    "    else: print('invalid starter_flag')\n",
    "    player_infos[r['player_id']]['seconds'] += float(r['mp_as_int'])\n",
    "    \n",
    "for r in pbp:\n",
    "    if 'CO_' in r['player_id'] or r['player_id'] == '' or r['player_name'] == '': continue\n",
    "    if r['team_id'] not in player_infos[r['player_id']]['team']:\n",
    "        print('pbp dupe team for', r['player_id'], 'add', r['team_id'], '->', player_infos[r['player_id']]['team'])\n",
    "        player_infos[r['player_id']]['team'].append(r['team_id'])\n",
    "    temp_name=r['player_name'].strip()\n",
    "    if temp_name not in player_infos[r['player_id']]['name']:\n",
    "        print('pbp dupe name for', r['player_id'], 'add', temp_name, '->', player_infos[r['player_id']]['name'])\n",
    "        player_infos[r['player_id']]['name'].append(temp_name)\n",
    "    player_infos[r['player_id']]['events'].append(r)"
   ]
  },
  {
   "cell_type": "code",
   "execution_count": 9,
   "metadata": {
    "collapsed": true,
    "deletable": true,
    "editable": true
   },
   "outputs": [],
   "source": [
    "### special case handling for a player with 2 player_ids\n",
    "\n",
    "yurtseven={}\n",
    "yurtseven['seconds'] = player_infos['P005983']['seconds'] + player_infos['P005353']['seconds']\n",
    "yurtseven['gamecodes_starter'] = {**player_infos['P005983']['gamecodes_starter'],\n",
    "                                          **player_infos['P005353']['gamecodes_starter']}\n",
    "yurtseven['gamecodes_bench'] = {**player_infos['P005983']['gamecodes_bench'],\n",
    "                                        **player_infos['P005353']['gamecodes_bench']}\n",
    "yurtseven['name'] = list(set(player_infos['P005983']['name'] + player_infos['P005353']['name']))\n",
    "yurtseven['team'] = list(set(player_infos['P005983']['team'] + player_infos['P005353']['team']))\n",
    "\n",
    "yurtseven['events'] = player_infos['P005983']['events'] + player_infos['P005353']['events']\n",
    "player_infos['P005983'] = yurtseven\n",
    "player_infos['P005353'] = yurtseven"
   ]
  },
  {
   "cell_type": "code",
   "execution_count": 10,
   "metadata": {
    "collapsed": false,
    "deletable": true,
    "editable": true
   },
   "outputs": [],
   "source": [
    "for key, p in player_infos.items():\n",
    "    p['gamecodes_all'] = {**p['gamecodes_starter'], **p['gamecodes_bench']}"
   ]
  },
  {
   "cell_type": "markdown",
   "metadata": {
    "deletable": true,
    "editable": true
   },
   "source": [
    "5 more player names than ids discrepancy is explained by one player having more than one name"
   ]
  },
  {
   "cell_type": "code",
   "execution_count": 11,
   "metadata": {
    "collapsed": false,
    "deletable": true,
    "editable": true
   },
   "outputs": [
    {
     "data": {
      "text/plain": [
       "3114"
      ]
     },
     "execution_count": 11,
     "metadata": {},
     "output_type": "execute_result"
    }
   ],
   "source": [
    "event_desc=[]\n",
    "for r in pbp:\n",
    "    if r['event_desc'] not in event_desc:\n",
    "        event_desc.append(r['event_desc'])\n",
    "len(event_desc)"
   ]
  },
  {
   "cell_type": "code",
   "execution_count": 12,
   "metadata": {
    "collapsed": false,
    "deletable": true,
    "editable": true
   },
   "outputs": [
    {
     "data": {
      "text/plain": [
       "29"
      ]
     },
     "execution_count": 12,
     "metadata": {},
     "output_type": "execute_result"
    }
   ],
   "source": [
    "event_desc_id=[]\n",
    "for r in pbp:\n",
    "    if r['event_desc_id'] not in event_desc_id:\n",
    "        event_desc_id.append(r['event_desc_id'])\n",
    "len(event_desc_id)\n"
   ]
  },
  {
   "cell_type": "raw",
   "metadata": {
    "deletable": true,
    "editable": true
   },
   "source": [
    "### event_desc_id\n",
    "BP,      begin period\n",
    "2FGAB,   missed two pointer blocked\n",
    "AG,      shot rejected\n",
    "FV,      block\n",
    "D,       def rebound\n",
    "3FGA,    missed three pointer\n",
    "O,       off rebound\n",
    "TO,      turnover\n",
    "2FGA,    missed two pointer\n",
    "3FGM,    three pointer\n",
    "AS,      assist\n",
    "ST,      steal\n",
    "RV,      foul drawn\n",
    "CM,      foul\n",
    "IN,      substitution in\n",
    "OUT,     substitution out\n",
    "2FGM,    two pointer\n",
    "OF,      offensive foul\n",
    "TOUT_TV, tv time out\n",
    "FTA,     missed free throw\n",
    "FTM,     made free throw\n",
    "3FGAB,   missed three pointer blocked\n",
    "TOUT,    time out\n",
    "C,       coach foul\n",
    "CMU,     unsportsmanlike foul\n",
    "CMT,     technical foul\n",
    "EG,      end game\n",
    "B,       bench foul\n",
    "CMD,     disqualifying foul"
   ]
  },
  {
   "cell_type": "code",
   "execution_count": 13,
   "metadata": {
    "collapsed": false,
    "deletable": true,
    "editable": true
   },
   "outputs": [
    {
     "data": {
      "text/plain": [
       "(['KHI', 'MAD'], ['CSK', 'ULK'])"
      ]
     },
     "execution_count": 13,
     "metadata": {},
     "output_type": "execute_result"
    }
   ],
   "source": [
    "### games organized by gamecode\n",
    "### KEY=string gamecode; VALUE=[team1, team2] \n",
    "\n",
    "games_gamecode={}\n",
    "for r in roster:\n",
    "    if r['gamecode'] not in games_gamecode.keys():\n",
    "        games_gamecode[r['gamecode']]=[]\n",
    "    if r['team_id'] not in games_gamecode[r['gamecode']]:\n",
    "        games_gamecode[r['gamecode']].append(r['team_id'])\n",
    "        if len(games_gamecode[r['gamecode']]) > 2:\n",
    "            print('ERROR:', str(r['gamecode']), r)\n",
    "\n",
    "games_gamecode['1'], games_gamecode['250']"
   ]
  },
  {
   "cell_type": "code",
   "execution_count": 14,
   "metadata": {
    "collapsed": false,
    "deletable": true,
    "editable": true
   },
   "outputs": [
    {
     "data": {
      "text/plain": [
       "[('59', ['DAR', 'TEL']),\n",
       " ('82', ['MAL', 'TEL']),\n",
       " ('72', ['CSK', 'TEL']),\n",
       " ('12', ['CSK', 'TEL']),\n",
       " ('107', ['BAM', 'TEL']),\n",
       " ('96', ['SAS', 'TEL']),\n",
       " ('119', ['DAR', 'TEL']),\n",
       " ('47', ['BAM', 'TEL']),\n",
       " ('36', ['SAS', 'TEL']),\n",
       " ('22', ['MAL', 'TEL'])]"
      ]
     },
     "execution_count": 14,
     "metadata": {},
     "output_type": "execute_result"
    }
   ],
   "source": [
    "### games organized by team\n",
    "games_team_id={}\n",
    "for t in team_ids:\n",
    "    games_team_id[t]=[]\n",
    "for key, g in games_gamecode.items():\n",
    "    for t in team_ids:\n",
    "        if g[0] == t or g[1] == t:\n",
    "            games_team_id[t].append((key, g))\n",
    "            \n",
    "games_team_id['TEL']"
   ]
  },
  {
   "cell_type": "markdown",
   "metadata": {
    "deletable": true,
    "editable": true
   },
   "source": [
    "# Analysis\n",
    "\n",
    "## Identify the top 5 teams & players in offensive rebounding. Describe the metric(s) used and explain why you used it."
   ]
  },
  {
   "cell_type": "markdown",
   "metadata": {
    "deletable": true,
    "editable": true
   },
   "source": [
    "### offensive rebounding percentage (orebs / missed shots)\n",
    "(drawing loose ball fouls after own team's missed shots)\n",
    "\n",
    "was a player in play when a team missed a shot? (we can find out based on substitutions)"
   ]
  },
  {
   "cell_type": "code",
   "execution_count": 15,
   "metadata": {
    "collapsed": false,
    "deletable": true,
    "editable": true,
    "scrolled": false
   },
   "outputs": [],
   "source": [
    "### TOTAL (OREBS / MISSED) SHOTS PER TEAM\n",
    "orebs_player = {}\n",
    "orebs_team = {}\n",
    "missedshots_team = {}\n",
    "madeshots_team = {}\n",
    "for r in pbp:\n",
    "    if r['event_desc_id'] == 'O':\n",
    "        if r['player_id'] not in orebs_player.keys():\n",
    "            orebs_player[r['player_id']] = []\n",
    "        orebs_player[r['player_id']].append(r)\n",
    "        if r['team_id'] not in orebs_team.keys():\n",
    "            orebs_team[r['team_id']] = []\n",
    "        orebs_team[r['team_id']].append(r)\n",
    "    elif any([r['event_desc_id'] == e for e in ('2FGA', '2FGAB', '3FGA', '3FGAB')]):\n",
    "        #consider last missed free throw\n",
    "        if r['team_id'] not in missedshots_team.keys():\n",
    "            missedshots_team[r['team_id']] = []\n",
    "        missedshots_team[r['team_id']].append(r)\n",
    "    elif any([r['event_desc_id'] == e for e in ('2FGM', '3FGM')]):\n",
    "        if r['team_id'] not in madeshots_team.keys():\n",
    "            madeshots_team[r['team_id']] = []\n",
    "        madeshots_team[r['team_id']].append(r)\n"
   ]
  },
  {
   "cell_type": "code",
   "execution_count": 16,
   "metadata": {
    "collapsed": false,
    "deletable": true,
    "editable": true,
    "scrolled": false
   },
   "outputs": [
    {
     "name": "stdout",
     "output_type": "stream",
     "text": [
      "       games    orebs    - shots    oreb%    orebs/game    - shots/game    + shots/game     fg%\n",
      "---  -------  -------  ---------  -------  ------------  --------------  --------------  ------\n",
      "MAL       24      313        821   0.3812         13.04           34.21           26.54  0.4369\n",
      "IST       24      276        791   0.3489         11.5            32.96           29.96  0.4762\n",
      "TEL       10      123        356   0.3455         12.3            35.6            26.6   0.4277\n",
      "OLY       24      283        836   0.3385         11.79           34.83           27.33  0.4397\n",
      "MAD       27      312        942   0.3312         11.56           34.89           29.19  0.4555\n",
      "CSK       29      277        843   0.3286          9.55           29.07           31.17  0.5175\n",
      "ULK       29      303        925   0.3276         10.45           31.9            28.21  0.4693\n",
      "KHI       24      272        831   0.3273         11.33           34.62           29.96  0.4639\n",
      "RED       27      282        864   0.3264         10.44           32              26.85  0.4563\n",
      "PAN       27      278        856   0.3248         10.3            31.7            27.37  0.4633\n",
      "TIV       31      331       1022   0.3239         10.68           32.97           26.9   0.4494\n",
      "DAR       24      237        769   0.3082          9.88           32.04           27.08  0.4581\n",
      "BAR       29      283        929   0.3046          9.76           32.03           27.97  0.4661\n",
      "CED       24      236        795   0.2969          9.83           33.12           27.38  0.4525\n",
      "GSS       10      102        344   0.2965         10.2            34.4            24.5   0.416\n",
      "ZAL       24      244        824   0.2961         10.17           34.33           26.08  0.4317\n",
      "BAS       29      297       1012   0.2935         10.24           34.9            28.41  0.4488\n",
      "MIL       10      107        367   0.2916         10.7            36.7            26.3   0.4175\n",
      "STR       10       99        344   0.2878          9.9            34.4            27.4   0.4434\n",
      "MUN       10       99        350   0.2829          9.9            35              28.5   0.4488\n",
      "LMG       10       87        309   0.2816          8.7            30.9            25.8   0.455\n",
      "KSK       10       94        345   0.2725          9.4            34.5            25.4   0.424\n",
      "BAM       24      186        716   0.2598          7.75           29.83           27.67  0.4812\n",
      "SAS       10       75        346   0.2168          7.5            34.6            24.9   0.4185\n"
     ]
    }
   ],
   "source": [
    "### orebs, missed_shots, orebs/missed_shots, missed_shots per game\n",
    "temp=[]\n",
    "for team_id in team_ids:\n",
    "    temp.append((team_id,\n",
    "                 len(games_team_id[team_id]),\n",
    "                 len(orebs_team[team_id]),\n",
    "                 len(missedshots_team[team_id]),\n",
    "                 round(len(orebs_team[team_id]) / len(missedshots_team[team_id]), 4),\n",
    "                 round(len(orebs_team[team_id]) / len(games_team_id[team_id]), 2),\n",
    "                 round(len(missedshots_team[team_id]) / len(games_team_id[team_id]), 2),\n",
    "                 round(len(madeshots_team[team_id]) / len(games_team_id[team_id]), 2),\n",
    "                 round(len(madeshots_team[team_id]) /\n",
    "                        (len(madeshots_team[team_id]) + len(missedshots_team[team_id])), 4)))\n",
    "    \n",
    "### calculate league averages\n",
    "### code below weighs each team totals equally, even if they have different number of games/shots/orebs/etc\n",
    "# temp_avg=[]\n",
    "# for i, column in enumerate(zip(temp)):\n",
    "#     if i == 0: temp_avg.append('AVG')\n",
    "#     elif i < 4: temp_avg.append('')\n",
    "# for i, each in enumerate(reversed(np.rot90([t[4:] for t in temp]))):\n",
    "#     if i == 0 or i == 4: temp_avg.append(round(np.mean(each), 4))\n",
    "#     else: temp_avg.append(round(np.mean(each), 2))\n",
    "\n",
    "print(tabulate(reversed(sorted(temp, key=lambda item: item[4])), headers=('', 'games', 'orebs', '- shots', 'oreb%', 'orebs/game', '- shots/game', '+ shots/game', 'fg%')))\n",
    "# print()\n",
    "# print(tabulate((temp_avg, []), headers=('', 'games', 'orebs', '- shots', 'oreb%', 'orebs/game', '- shots/game', '+ shots/game', 'fg%')))"
   ]
  },
  {
   "cell_type": "markdown",
   "metadata": {
    "deletable": true,
    "editable": true
   },
   "source": [
    "## Top 5 Offensive Rebounding Teams\n",
    "\n",
    "The top 7 teams in offensive rebounding rate (oreb%) are discussed below. The preceding numbers represent a team's rank in oreb%.\n",
    "\n",
    "1) __Unicaja Malaga [MAL]__'s numbers are eye-popping; the team's oreb% is the league-high at an absurd 38%, with the next best team falling below 35%. With this statistic alone, _one can comfortably conclude that __MAL is at least one of the top 5 offensive rebounding teams, if not the best.__\n",
    "\n",
    "6) __CSKA Moscow [CSK]__ is an interesting team. Their oreb% is a respectable 33%, which falls to 6th best in the league. However, they are incredibly efficient on offense. They boast league-best numbers with most shots made and least shots missed per game (which leads to highest field goal percentage (fg%)). It's one thing for a team to jack up a bunch of mediocre shots and get lots of long offensive rebounds (4 of 5 top oreb% teams are at or below league average fg%, while the next 14 teams have above average fg%), but CSK prioritizes offensive shot quality while still maintaining a great oreb%. If CSK were to punt shot quality in favor of offensive rebounds, I would expect their oreb% to surge upward. Despite being outside of the top 5 in oreb%, __I would consider CSK to be one of the 5 best offensive rebound teams.__\n",
    "\n",
    "3) __~~Maccabi FOX Tel Aviv [TEL]~~__ is the opposite of CSK. Although their oreb% is 34.5%, good for 3rd in the league, they are the only team among the top 14 oreb% teams not to have advanced to the playoffs. In addition, they have the 5th lowest fg% in the league. For TEL, their high oreb% might actually be a side-effect of their awful shot quality rather than their knack for offensive rebounding, as discussed above. If their shot quality improves, their oreb% likely goes down. Not only that, there are only 10 games of data for TEL, containing 123 offensive rebounds from 356 missed shots; such a sample size is too big to ignore altogether, but it is small enough to be susceptible to statistical noise. __In a vacuum, I would not consider TEL to be one of the 5 best offensive rebounding teams.__\n",
    "\n",
    "2) __Anadolu Efes Istanbul [IST]__ is like CSK, but more well-rounded. Their oreb% is 35%, 2nd best in the league; 48% fg% is 3rd best. Compared to CSK, IST gets on the offensive glass more, while their shot quality is lower. In a vacuum, I would say IST's offensive rebounding prowess is equal to or slightly higher than CSK's. __To me, IST is in the top 5.__\n",
    "\n",
    "4) __Olympiacos Piraeus [OLY]__ and 5) __~~Real Madrid [MAD]~~__ are very similar in many ways. They get miss shots and get offensive rebounds at about the same rate per game, while MAD makes two more on two more attempts per game. In short, MAD has better shot quality, whereas OLY crashes the offensive glass more. They are probably very close in terms of offensive rebounding as a team, but __I will take OLY based the oreb% numbers.__\n",
    "\n",
    "7) __Fenerbahce Istanbul [ULK]__ __slips in as my 5th best offensive rebounding team__. In the same vein as CSK and IST, ULK seems to prioritize shot quality, with their fg% at 4th best. However, there is a sizable group of teams that hover around 32.5 and 33.5 oreb%, all of which could be considered for the 5th spot.\n",
    "\n",
    "### My list for top 5 teams in offensive rebounding in descending order:\n",
    "1. Unicaja Malaga [MAL]\n",
    "2. Anadolu Efes Istanbul [IST]\n",
    "3. CSKA Moscow [CSK]\n",
    "4. Olympiacos Piraeus [OLY]\n",
    "5. Fenerbahce Istanbul [ULK]\n",
    "\n",
    "Note: The given data has some minor discrepancies (in total oreb count) from the stats page on EuroLeague.net; likely data collection errors, but small enough to ignore."
   ]
  },
  {
   "cell_type": "markdown",
   "metadata": {
    "deletable": true,
    "editable": true
   },
   "source": [
    "### Offensive rebound after missed FT (only 191 in 250 games). This is already counted in the general orebs table below, so kind of pointless"
   ]
  },
  {
   "cell_type": "code",
   "execution_count": 17,
   "metadata": {
    "collapsed": false,
    "deletable": true,
    "editable": true
   },
   "outputs": [
    {
     "data": {
      "text/plain": [
       "[('MUN', 0.1, 1),\n",
       " ('MIL', 0.1, 1),\n",
       " ('TEL', 0.1, 1),\n",
       " ('STR', 0.2, 2),\n",
       " ('KSK', 0.2, 2),\n",
       " ('LMG', 0.2, 2),\n",
       " ('DAR', 0.2083, 5),\n",
       " ('TIV', 0.2258, 7),\n",
       " ('BAS', 0.2759, 8),\n",
       " ('ULK', 0.2759, 8),\n",
       " ('BAM', 0.2917, 7),\n",
       " ('ZAL', 0.2917, 7),\n",
       " ('CSK', 0.3448, 10),\n",
       " ('CED', 0.375, 9),\n",
       " ('GSS', 0.4, 4),\n",
       " ('MAL', 0.4167, 10),\n",
       " ('KHI', 0.4167, 10),\n",
       " ('BAR', 0.4483, 13),\n",
       " ('RED', 0.4815, 13),\n",
       " ('SAS', 0.5, 5),\n",
       " ('IST', 0.5417, 13),\n",
       " ('OLY', 0.6667, 16),\n",
       " ('MAD', 0.6667, 18),\n",
       " ('PAN', 0.7037, 19)]"
      ]
     },
     "execution_count": 17,
     "metadata": {},
     "output_type": "execute_result"
    }
   ],
   "source": [
    "oreb_after_fta={}\n",
    "for t in team_ids:\n",
    "    oreb_after_fta[t]=[]\n",
    "for i, r in enumerate(pbp):\n",
    "    if r['event_desc_id'] == 'FTA' and pbp[i+1]['event_desc_id'] == 'O':\n",
    "        for t in team_ids:\n",
    "            if t == pbp[i+1]['team_id']:\n",
    "                oreb_after_fta[t].append(pbp[i+1])\n",
    "temp = []\n",
    "for t in team_ids:\n",
    "    temp.append((t, round(len(oreb_after_fta[t]) / len(games_team_id[t]), 4), len(oreb_after_fta[t])))\n",
    "    \n",
    "sorted(temp, key=lambda item: item[1])"
   ]
  },
  {
   "cell_type": "code",
   "execution_count": 18,
   "metadata": {
    "collapsed": false,
    "deletable": true,
    "editable": true
   },
   "outputs": [
    {
     "data": {
      "text/plain": [
       "[('TOUT', 1),\n",
       " ('ST', 1),\n",
       " ('3FGM', 2),\n",
       " ('RV', 4),\n",
       " ('2FGA', 9),\n",
       " ('TO', 10),\n",
       " ('3FGA', 12),\n",
       " ('2FGM', 12),\n",
       " ('IN', 14),\n",
       " ('CM', 14),\n",
       " ('AS', 33),\n",
       " ('O', 191),\n",
       " ('FTA', 311),\n",
       " ('FTM', 823),\n",
       " ('D', 886)]"
      ]
     },
     "execution_count": 18,
     "metadata": {},
     "output_type": "execute_result"
    }
   ],
   "source": [
    "### EVENT IMMEDIATELY FOLLOWING MISSED FREE THROW\n",
    "events_after_fta={}\n",
    "for i, r in enumerate(pbp):\n",
    "    if r['event_desc_id'] == 'FTA':\n",
    "        if pbp[i+1]['event_desc_id'] not in events_after_fta.keys():\n",
    "            events_after_fta[pbp[i+1]['event_desc_id']] = []\n",
    "        events_after_fta[pbp[i+1]['event_desc_id']].append((i, pbp[i+1]))\n",
    "\n",
    "temp=[]\n",
    "for e in events_after_fta.keys():\n",
    "    temp.append((e, len(events_after_fta[e])))\n",
    "        \n",
    "sorted(temp, key=lambda item: item[1])"
   ]
  },
  {
   "cell_type": "markdown",
   "metadata": {
    "deletable": true,
    "editable": true
   },
   "source": [
    "# best oreb player:"
   ]
  },
  {
   "cell_type": "markdown",
   "metadata": {
    "deletable": true,
    "editable": true
   },
   "source": [
    "## Top 5 Offensive Rebounding Players\n",
    "\n",
    "### My top 5 in descending order\n",
    "\n",
    "1. __HUNTER, OTHELLO [P005160]__\n",
    "2. __KUZMIC, OGNJEN [P003479]__\n",
    "3. __AYON, GUSTAVO [P005927]__\n",
    "4. __REYES, FELIPE [PAAX]__\n",
    "5. __ZIRBES, MAIK [P004183]__\n",
    "\n",
    "\n",
    "__AYON, GUSTAVO [P005927]__ is the league leader in total offensive rebounds (orebs) and orebs per game (orebs/g), though with a lot of games and minutes per game. But even when adjusted for such, he ranks in the top 5 for orebs per 40 minutes (orebs/40m). He is on the fringe of the elite class of offensive rebounders (4.5+ orebs/40m), but his consistency and reliability on the offensive glass gives him an edge. When adjusted for the defensive rebounding rate of his opponents, his oreb numbers on top by a large margin. His raw numbers seem to underrate him, but I think __belongs in the top 5__.\n",
    "\n",
    "On the other hand, __KUZMIC, OGNJEN [P003479]__ has a lot of potential to be a special offensive rebounder. His league-leading 5.8 orebs/40m is off the charts. He only gets 13 minutes a game, which means his numbers are more susceptible to being fluky, it's all about gambling on upside and potential for prospects from outside the US. In the EuroLeague, I would expect him to dominate as he gets more minutes, __so he is in__.\n",
    "\n",
    "__~~STIMAC, VLADIMIR [PLBJ]~~__ is very similar to Kuzmic, in fact grabbing the same 1.92 orebs/g with one more minute per game than Kuzmic. He is in the elite class of offensive rebounders, but when adjusted for defensive rebounding rate of his opponents, his numbers fall flat. He also showed troubling trends towards the end of the season, steadily losing orebs, and putting up multiple 0-oreb games in the playoffs. __He's not in my top 5__.\n",
    "\n",
    "__HUNTER, OTHELLO [P005160]__ is 2nd best in orebs/40m as well as orebs/g, and he has more games, minutes, and total orebs than Kuzmic. His stats say he is very productive and well-rounded; he even logs starter minutes while still upholding his fantastic 5.43 orebs/40m, so __he is my number 1 pick__.\n",
    "\n",
    "__REYES, FELIPE [PAAX]__'s numbers may seem a bit shaky, and he seems to land somewhere near the top 5. But among the leading offensive rebounders in the EuroLeague, he was one of the only players to show a steady growth in offensive rebounding through the season.\n",
    "\n",
    "__ZIRBES, MAIK [P004183]__ is Ayon-lite. His offensive rebounding production falls short of Ayon by all metrics, but his consistency is not to be ignored. He puts up starter minutes, with decent per minute numbers, as well as against very strong opposition. __He just barely makes the cut__.\n",
    "\n",
    "Stats used: orebs, minutes per game, adjusted orebs/40m: when a player grabs an offensive rebound, its value depends on the opponent's defensive rebounding prowess. In the EuroLeague, there is a large gap between the best and worst defensive rebounding teams. Therefore, the raw orebs/40m is adjusted based on opponent defensive rebounding percentage (e.g. an oreb against a team with a dreb% of 80% is worth 0.8 adjusted oreb, instead of a flat 1).\n",
    "\n"
   ]
  },
  {
   "cell_type": "markdown",
   "metadata": {
    "deletable": true,
    "editable": true
   },
   "source": [
    "### Drawing defensive loose ball fouls is too noisy, too small, useless.\n",
    "* look at drawing loose ball fouls after team missed shot\n",
    "* fouls are not descriptive, so after FGA -> foul drawn without Oreb or Dreb in between"
   ]
  },
  {
   "cell_type": "code",
   "execution_count": null,
   "metadata": {
    "collapsed": false,
    "deletable": true,
    "editable": true
   },
   "outputs": [],
   "source": [
    "temp=[]\n",
    "for i, r in enumerate(pbp):\n",
    "    if any([r['event_desc_id'] == e for e in ('2FGA', '3FGA', 'FTA', '2FGAB', '3FGAB')]):\n",
    "        temp_team = r['team_id']\n",
    "        k = i\n",
    "        while True:\n",
    "            i+=1\n",
    "            if pbp[i]['event_desc_id'] == 'RV' and pbp[i]['team_id'] == temp_team:\n",
    "                temp.append((k, i))\n",
    "                break\n",
    "            if any([pbp[i]['event_desc_id'] == e for e in ('FTA', 'FTM', 'O', 'D', 'BP')]):\n",
    "                break"
   ]
  },
  {
   "cell_type": "markdown",
   "metadata": {
    "deletable": true,
    "editable": true
   },
   "source": [
    "the data is inconsistent when it comes to loose ball fouls after a missed shot. generally, it's\n",
    "1. #FGA(B)/FTA missed shot\n",
    " * AG shot rejected\n",
    " * FV block\n",
    "2. RV foul drawn\n",
    "3. CM foul\n",
    "4. (O offensive rebound)\n",
    "\n",
    "Sometimes it skips the "
   ]
  },
  {
   "cell_type": "code",
   "execution_count": null,
   "metadata": {
    "collapsed": false,
    "deletable": true,
    "editable": true,
    "scrolled": true
   },
   "outputs": [],
   "source": [
    "### num of events from a friendly missed shot to a foul drawn\n",
    "onf=Counter([t[1]-t[0] for t in temp])\n",
    "pprint(onf)"
   ]
  },
  {
   "cell_type": "code",
   "execution_count": null,
   "metadata": {
    "collapsed": false,
    "deletable": true,
    "editable": true,
    "scrolled": true
   },
   "outputs": [],
   "source": [
    "onf[1]"
   ]
  },
  {
   "cell_type": "code",
   "execution_count": null,
   "metadata": {
    "collapsed": false,
    "deletable": true,
    "editable": true,
    "scrolled": true
   },
   "outputs": [],
   "source": [
    "onf12 = [pbp[t[1]]['player_name'] for t in temp if t[1]-t[0] < 3]\n",
    "\n",
    "list(reversed(sorted(list(Counter(onf12).items()), key=lambda x: x[1])))"
   ]
  },
  {
   "cell_type": "markdown",
   "metadata": {
    "deletable": true,
    "editable": true
   },
   "source": [
    "## Time of season for oreb numbers, look for trends"
   ]
  },
  {
   "cell_type": "code",
   "execution_count": null,
   "metadata": {
    "collapsed": false,
    "deletable": true,
    "editable": true
   },
   "outputs": [],
   "source": [
    "for r in roster:\n",
    "    print(r)\n",
    "    break"
   ]
  },
  {
   "cell_type": "code",
   "execution_count": 19,
   "metadata": {
    "collapsed": false,
    "deletable": true,
    "editable": true,
    "scrolled": false
   },
   "outputs": [
    {
     "ename": "NameError",
     "evalue": "name 'oreb_multiplier_against_team' is not defined",
     "output_type": "error",
     "traceback": [
      "\u001b[0;31m---------------------------------------------------------------------------\u001b[0m",
      "\u001b[0;31mNameError\u001b[0m                                 Traceback (most recent call last)",
      "\u001b[0;32m<ipython-input-19-fbe61c159ecd>\u001b[0m in \u001b[0;36m<module>\u001b[0;34m()\u001b[0m\n\u001b[1;32m     13\u001b[0m     \u001b[0madj_orebs\u001b[0m\u001b[0;34m=\u001b[0m\u001b[0;36m0\u001b[0m\u001b[0;34m\u001b[0m\u001b[0m\n\u001b[1;32m     14\u001b[0m     \u001b[0;32mfor\u001b[0m \u001b[0mt\u001b[0m \u001b[0;32min\u001b[0m \u001b[0mtemp_orebs\u001b[0m\u001b[0;34m:\u001b[0m\u001b[0;34m\u001b[0m\u001b[0m\n\u001b[0;32m---> 15\u001b[0;31m         \u001b[0madj_orebs\u001b[0m \u001b[0;34m+=\u001b[0m \u001b[0mround\u001b[0m\u001b[0;34m(\u001b[0m\u001b[0;34m(\u001b[0m\u001b[0moreb_multiplier_against_team\u001b[0m\u001b[0;34m[\u001b[0m\u001b[0mopponent\u001b[0m\u001b[0;34m(\u001b[0m\u001b[0mt\u001b[0m\u001b[0;34m[\u001b[0m\u001b[0;34m'gamecode'\u001b[0m\u001b[0;34m]\u001b[0m\u001b[0;34m,\u001b[0m \u001b[0mplayer_id\u001b[0m\u001b[0;34m)\u001b[0m\u001b[0;34m]\u001b[0m\u001b[0;34m)\u001b[0m \u001b[0;34m/\u001b[0m \u001b[0;36m40\u001b[0m\u001b[0;34m,\u001b[0m \u001b[0;36m4\u001b[0m\u001b[0;34m)\u001b[0m\u001b[0;34m\u001b[0m\u001b[0m\n\u001b[0m\u001b[1;32m     16\u001b[0m     \u001b[0mtemp_games\u001b[0m \u001b[0;34m=\u001b[0m \u001b[0mlen\u001b[0m\u001b[0;34m(\u001b[0m\u001b[0mr\u001b[0m\u001b[0;34m[\u001b[0m\u001b[0;34m'gamecodes_starter'\u001b[0m\u001b[0;34m]\u001b[0m\u001b[0;34m)\u001b[0m \u001b[0;34m+\u001b[0m \u001b[0mlen\u001b[0m\u001b[0;34m(\u001b[0m\u001b[0mr\u001b[0m\u001b[0;34m[\u001b[0m\u001b[0;34m'gamecodes_bench'\u001b[0m\u001b[0;34m]\u001b[0m\u001b[0;34m)\u001b[0m\u001b[0;34m\u001b[0m\u001b[0m\n\u001b[1;32m     17\u001b[0m     \u001b[0;32mif\u001b[0m \u001b[0mlen\u001b[0m\u001b[0;34m(\u001b[0m\u001b[0mtemp_orebs\u001b[0m\u001b[0;34m)\u001b[0m \u001b[0;34m==\u001b[0m \u001b[0;36m0\u001b[0m \u001b[0;32mor\u001b[0m \u001b[0mtemp_games\u001b[0m \u001b[0;34m==\u001b[0m \u001b[0;36m0\u001b[0m\u001b[0;34m:\u001b[0m \u001b[0;32mcontinue\u001b[0m \u001b[0;31m#handles 'divide by zero' exceptions\u001b[0m\u001b[0;34m\u001b[0m\u001b[0m\n",
      "\u001b[0;31mNameError\u001b[0m: name 'oreb_multiplier_against_team' is not defined"
     ]
    }
   ],
   "source": [
    "def opponent(gamecode, player_id):\n",
    "    teams = player_infos[player_id]['team']\n",
    "    for t in games_gamecode[gamecode]:\n",
    "        for team in teams:\n",
    "            if t != team:\n",
    "                return t\n",
    "    return None\n",
    "\n",
    "temp=[]\n",
    "temp_headers = ('player_id', 'player_name', 'orebs', 'minutes', 'games', 'm/g', 'orebs/game', 'orebs/40m', 'adj o/40m')\n",
    "for player_id, r in player_infos.items():\n",
    "    temp_orebs = [e for e in r['events'] if e['event_desc_id'] == 'O']\n",
    "    adj_orebs=0\n",
    "    for t in temp_orebs:\n",
    "        adj_orebs += round((oreb_multiplier_against_team[opponent(t['gamecode'], player_id)]) / 40, 4)\n",
    "    temp_games = len(r['gamecodes_starter']) + len(r['gamecodes_bench'])\n",
    "    if len(temp_orebs) == 0 or temp_games == 0: continue #handles 'divide by zero' exceptions\n",
    "    if temp_games < 15 or len(temp_orebs) < 40: continue\n",
    "    \n",
    "    temp.append((player_id,\n",
    "                 r['name'][0],\n",
    "                 len(temp_orebs),\n",
    "                 round((r['seconds'] / 60), 2),\n",
    "                 temp_games,\n",
    "                 round((r['seconds'] / 60) / (temp_games), 2),\n",
    "                 round(len(temp_orebs) / (temp_games), 2),\n",
    "                 round(60 * 40 * len(temp_orebs) / r['seconds'], 2),\n",
    "                 adj_orebs))\n",
    "    \n",
    "print(tabulate(list(reversed(sorted(temp, key=lambda x:x[6]))), headers=temp_headers))"
   ]
  },
  {
   "cell_type": "markdown",
   "metadata": {
    "deletable": true,
    "editable": true
   },
   "source": [
    "can we determine large gamecodes are later games?"
   ]
  },
  {
   "cell_type": "code",
   "execution_count": null,
   "metadata": {
    "collapsed": false,
    "deletable": true,
    "editable": true
   },
   "outputs": [],
   "source": [
    "team_names['CSK']"
   ]
  },
  {
   "cell_type": "markdown",
   "metadata": {
    "deletable": true,
    "editable": true
   },
   "source": [
    "highest gamecodes: last few games are the championship games, 3rd place games, and late playoff games, so seems likely"
   ]
  },
  {
   "cell_type": "code",
   "execution_count": null,
   "metadata": {
    "collapsed": false,
    "deletable": true,
    "editable": true,
    "scrolled": true
   },
   "outputs": [],
   "source": [
    "for i in range(250, 220, -1):\n",
    "    print(i, team_names[games_gamecode[str(i)][0]], '|', team_names[games_gamecode[str(i)][1]])"
   ]
  },
  {
   "cell_type": "code",
   "execution_count": null,
   "metadata": {
    "collapsed": false,
    "deletable": true,
    "editable": true
   },
   "outputs": [],
   "source": [
    "roster[0]"
   ]
  },
  {
   "cell_type": "markdown",
   "metadata": {
    "deletable": true,
    "editable": true
   },
   "source": [
    "here first games of the regular season are listed at the lowest gamecodes."
   ]
  },
  {
   "cell_type": "code",
   "execution_count": null,
   "metadata": {
    "collapsed": false,
    "deletable": true,
    "editable": true,
    "scrolled": true
   },
   "outputs": [],
   "source": [
    "for i in range(1, 20):\n",
    "    print(i, team_names[games_gamecode[str(i)][0]], '|', team_names[games_gamecode[str(i)][1]])"
   ]
  },
  {
   "cell_type": "markdown",
   "metadata": {
    "deletable": true,
    "editable": true
   },
   "source": [
    "It actually goes by Rounds and Groups; e.g. R1GA, R1GB, R1GC, R1GD, R2G1...\n",
    "Last games of Group A are often played before the first games of Group B in the same round, which means the smaller numbers do not strictly mean earlier games in the season. (i.e. Round 1 Group A Game 3 (gamecode 3), is played after Round 1 Group B Game 1 (gamecode 4))\n",
    "\n",
    "But going by rounds (which are 1 week apart), it's generally safe to say:\n",
    "\n",
    "### gamecode ~= ordinal game date.\n",
    "This means we can look at trends for players' oreb numbers as the season goes along."
   ]
  },
  {
   "cell_type": "raw",
   "metadata": {
    "collapsed": false,
    "deletable": true,
    "editable": true
   },
   "source": [
    "temp = {}\n",
    "candidates=['P003479',\n",
    "            'P005160',\n",
    "            'PLBJ',\n",
    "            'PAAX',\n",
    "            'P005927',\n",
    "            'P004183']\n",
    "for c in candidates:\n",
    "    temp[c] = []\n",
    "for r in pbp:\n",
    "    if r['event_desc_id'] == 'O':\n",
    "        for c in candidates:\n",
    "            if r['player_id'] == c:\n",
    "                temp[c].append(int(r['gamecode']))\n"
   ]
  },
  {
   "cell_type": "code",
   "execution_count": null,
   "metadata": {
    "collapsed": true,
    "deletable": true,
    "editable": true
   },
   "outputs": [],
   "source": [
    "### LEARN NUMPY\n",
    "\n",
    "candidates=['P003479',\n",
    "            'P005160',\n",
    "            'PLBJ',\n",
    "            'PAAX',\n",
    "            'P005927',\n",
    "            'P004183']\n",
    "temp={}\n",
    "for c in candidates:\n",
    "    temp[c] = sorted(list(Counter([int(r['gamecode']) for r in orebs_player[c]]).items()), key=lambda x: x[0])"
   ]
  },
  {
   "cell_type": "code",
   "execution_count": null,
   "metadata": {
    "collapsed": false,
    "deletable": true,
    "editable": true
   },
   "outputs": [],
   "source": [
    "for i in range(1, 251):\n",
    "    for c in candidates:\n",
    "        if str(i) in player_infos[c]['gamecodes_all']:\n",
    "            if i not in [t[0] for t in temp[c]]:\n",
    "                temp[c].append((i, 0))\n",
    "        temp[c]=sorted(temp[c], key=lambda x:x[0])"
   ]
  },
  {
   "cell_type": "code",
   "execution_count": null,
   "metadata": {
    "collapsed": false,
    "deletable": true,
    "editable": true,
    "scrolled": true
   },
   "outputs": [],
   "source": [
    "temp['PLBJ']"
   ]
  },
  {
   "cell_type": "markdown",
   "metadata": {
    "deletable": true,
    "editable": true
   },
   "source": [
    "A scatterplot is used to see if there are any visible trends in the candidates' oreb numbers per game."
   ]
  },
  {
   "cell_type": "code",
   "execution_count": null,
   "metadata": {
    "collapsed": false,
    "deletable": true,
    "editable": true,
    "scrolled": true
   },
   "outputs": [],
   "source": [
    "for c in candidates:\n",
    "    fig = plt.figure(figsize=(20, 10))\n",
    "    ax = fig.add_subplot(111)\n",
    "    ax.scatter([t[0] for t in temp[c]], [t[1] * 60 * 20 / player_infos[c]['gamecodes_all'][str(t[0])] for t in temp[c]], marker='+', color='k')\n",
    "    #ax.scatter([t[0] for t in temp[c]], [t[1] for t in temp[c]], [60000 / player_infos[c]['gamecodes_all'][str(t[0])] for t in temp[c]])\n",
    "    #ax.scatter([t[0] for t in temp[c]], [t[1] for t in temp[c]], s = 50, c = 'r', )\n",
    "    ax.set_xlim(1, 250)\n",
    "    ax.set_ylim(0, 15)\n",
    "    ax.set_xlabel('gamecode')\n",
    "    ax.set_ylabel('oreb / 20m')\n",
    "    ax.set_title(c + ' '+ str(player_infos[c]['name']))\n",
    "    plt.show()"
   ]
  },
  {
   "cell_type": "markdown",
   "metadata": {
    "deletable": true,
    "editable": true
   },
   "source": [
    "## oreb player update: Reyes is in, Stimac is out\n",
    "\n",
    "* Stimac has great numbers, but is inconsistent/trending down. He also put up 4 games with 0 orebs towards the end of the season, a concerning sign.\n",
    "* Also Stimac has a fluke game where he got 5:30 minutes of gameplay and got 3 orebs, which raised his orebs/40m stats.\n",
    "* Meanwhile, Reyes is getting better towards the end of the season."
   ]
  },
  {
   "cell_type": "code",
   "execution_count": null,
   "metadata": {
    "collapsed": false,
    "deletable": true,
    "editable": true
   },
   "outputs": [],
   "source": [
    "for g, mp in player_infos['PLBJ']['gamecodes_all'].items():\n",
    "    if int(g) > 150 and int(g) < 200:\n",
    "        print(g, mp)"
   ]
  },
  {
   "cell_type": "code",
   "execution_count": null,
   "metadata": {
    "collapsed": false,
    "deletable": true,
    "editable": true,
    "scrolled": false
   },
   "outputs": [],
   "source": [
    "fig = plt.figure(figsize=(20, 10))\n",
    "ax = fig.add_subplot(111)\n",
    "c = 'PLBJ'\n",
    "stimac = ax.scatter([t[0] for t in temp[c]], [t[1] * 60 * 20 / player_infos[c]['gamecodes_all'][str(t[0])] for t in temp[c]], facecolors='r')\n",
    "c = 'PAAX'\n",
    "reyes = ax.scatter([t[0] for t in temp[c]], [t[1] * 60 * 20 / player_infos[c]['gamecodes_all'][str(t[0])] for t in temp[c]], facecolors='k')\n",
    "c = 'P003479'\n",
    "#kuzmic = ax.scattber([t[0] for t in temp[c]], [t[1] * 60 * 20 / player_infos[c]['gamecodes_all'][str(t[0])] for t in temp[c]], edgecolors='b', facecolors = 'w', s=80)\n",
    "ax.set_xlabel('gamecode')\n",
    "ax.set_ylabel('oreb / 20m')\n",
    "\n",
    "\n",
    "plt.legend((stimac, reyes), ('Stimac, Vladimir', 'Reyes, Felipe'))\n",
    "#, 'Kuzmic, Ognjen'\n",
    "\n",
    "plt.show()"
   ]
  },
  {
   "cell_type": "markdown",
   "metadata": {
    "deletable": true,
    "editable": true
   },
   "source": [
    "players' offensive rebounding numbers % defensive rebounding %"
   ]
  },
  {
   "cell_type": "markdown",
   "metadata": {
    "deletable": true,
    "editable": true
   },
   "source": [
    "needs defensive 5 using IN and OUT"
   ]
  },
  {
   "cell_type": "markdown",
   "metadata": {
    "deletable": true,
    "editable": true
   },
   "source": [
    "### trends for teams"
   ]
  },
  {
   "cell_type": "code",
   "execution_count": null,
   "metadata": {
    "collapsed": false,
    "deletable": true,
    "editable": true,
    "scrolled": true
   },
   "outputs": [],
   "source": [
    "candidates=['MAL', 'CSK', 'TEL', 'IST', 'OLY', 'MAD', 'ULK', 'KHI']\n",
    "\n",
    "#pprint([(team, games) for team, games in games_team_id.items() if team in candidates])\n",
    "temp={}\n",
    "for c in candidates:\n",
    "    temp[c] = []\n",
    "    gc_o=sorted([(gamecode, oreb_count) for gamecode, oreb_count in Counter([int(o['gamecode']) for o in orebs_team[c]]).items()], key=lambda x: x[0])\n",
    "    gc_m=[x[1] for x in sorted([(gamecode, missedshots_count) for gamecode, missedshots_count in Counter([int(o['gamecode']) for o in missedshots_team[c]]).items()], key=lambda x: x[0])]\n",
    "    for i, o in enumerate(gc_o):\n",
    "        temp[c].append((gc_o[i][0], round((gc_o[i][1] / gc_m[i]), 2)))\n",
    "        \n",
    "temp\n",
    "    "
   ]
  },
  {
   "cell_type": "markdown",
   "metadata": {
    "deletable": true,
    "editable": true
   },
   "source": [
    "MAD is the only team with a significant downward trend\n",
    "\n",
    "KHI is almost there, but raw numbers are not good enough"
   ]
  },
  {
   "cell_type": "code",
   "execution_count": null,
   "metadata": {
    "collapsed": false,
    "deletable": true,
    "editable": true,
    "scrolled": true
   },
   "outputs": [],
   "source": [
    "candidates=['MAD', 'ULK', 'KHI', 'IST', 'OLY']\n",
    "for c in candidates:\n",
    "    fig = plt.figure(figsize=(20, 10))\n",
    "    ax = fig.add_subplot(111)\n",
    "    ax.scatter([t[0] for t in temp[c]], [t[1] for t in temp[c]])\n",
    "    ax.set_xlim(1, 250)\n",
    "    ax.set_ylim(0, .6)\n",
    "    ax.set_xlabel('gamecode')\n",
    "    ax.set_ylabel('oreb%')\n",
    "    ax.set_title(c)\n",
    "    plt.show()"
   ]
  },
  {
   "cell_type": "code",
   "execution_count": null,
   "metadata": {
    "collapsed": false,
    "deletable": true,
    "editable": true,
    "scrolled": false
   },
   "outputs": [],
   "source": [
    "fig = plt.figure(figsize=(20, 10))\n",
    "ax = fig.add_subplot(111)\n",
    "temp_candidates= ['MAD'] #'IST', 'OLY', 'MAD', 'ULK', 'KHI'\n",
    "colors = ('k', 'r', 'b', 'g')\n",
    "scats=[]\n",
    "for i, c in enumerate(temp_candidates):\n",
    "    scats.append(ax.scatter([t[0] for t in temp[c]], [t[1] for t in temp[c]], color=colors[i]))\n",
    "    #ax.plot([t[0] for t in temp[c]], [t[1] for t in temp[c]], color=colors[i], linestyle='-')\n",
    "ax.set_xlim(1, 250)\n",
    "ax.set_ylim(0, 0.6)\n",
    "ax.set_xlabel('gamecode')\n",
    "ax.set_ylabel('oreb%')\n",
    "ax.set_title(c)\n",
    "\n",
    "plt.legend(scats, temp_candidates)\n",
    "plt.show()"
   ]
  },
  {
   "cell_type": "markdown",
   "metadata": {
    "deletable": true,
    "editable": true
   },
   "source": [
    "## Teams: Defensive Rebounding"
   ]
  },
  {
   "cell_type": "code",
   "execution_count": null,
   "metadata": {
    "collapsed": false,
    "deletable": true,
    "editable": true
   },
   "outputs": [],
   "source": [
    "i=0\n",
    "for r in pbp:\n",
    "    if any([r['event_desc_id'] == e for e in('2FGA', '2FGAB', '3FGA', '3FGAB')]): i += 1\n",
    "i"
   ]
  },
  {
   "cell_type": "code",
   "execution_count": null,
   "metadata": {
    "collapsed": false,
    "deletable": true,
    "editable": true
   },
   "outputs": [],
   "source": [
    "missedshots_against_team = {}\n",
    "dreb_team = {}\n",
    "oreb_multiplier_against_team = {}\n",
    "for t in team_ids:\n",
    "    missedshots_against_team[t] = []\n",
    "    dreb_team[t] = []\n",
    "    oreb_multiplier_against_team[t] = 0\n",
    "    \n",
    "for r in pbp:\n",
    "    if any([r['event_desc_id'] == e for e in('2FGA', '2FGAB', '3FGA', '3FGAB')]):\n",
    "        for t in games_gamecode[r['gamecode']]:\n",
    "            if t != r['team_id']:\n",
    "                defense = t\n",
    "        missedshots_against_team[defense].append(r)\n",
    "    if r['event_desc_id'] == 'D':\n",
    "        dreb_team[r['team_id']].append(r)\n",
    "\n",
    "temp=[]   \n",
    "for t in team_ids:\n",
    "    temp.append((t, len(dreb_team[t]), len(missedshots_against_team[t]), round(len(dreb_team[t]) / len(missedshots_against_team[t]), 4)))\n",
    "    oreb_multiplier_against_team[t] = len(dreb_team[t]) / len(missedshots_against_team[t])\n",
    "    \n",
    "\n",
    "    \n",
    "print(tabulate(reversed(sorted(temp, key=lambda x: x[3])), headers=('team', 'drebs', 'opp - shots', 'dreb%')))\n",
    "\n"
   ]
  },
  {
   "cell_type": "code",
   "execution_count": null,
   "metadata": {
    "collapsed": false,
    "deletable": true,
    "editable": true
   },
   "outputs": [],
   "source": [
    "games_gamecode['1']"
   ]
  },
  {
   "cell_type": "markdown",
   "metadata": {
    "deletable": true,
    "editable": true
   },
   "source": [
    "### Basic Stats"
   ]
  },
  {
   "cell_type": "code",
   "execution_count": null,
   "metadata": {
    "collapsed": false,
    "deletable": true,
    "editable": true
   },
   "outputs": [],
   "source": [
    "### OVERALL FG%\n",
    "fgm = sum([len(m) for team, m in madeshots_team.items()])\n",
    "fga = sum([len(m) for team, m in missedshots_team.items()])\n",
    "print('fg% {} {}/{}'.format((round(fgm / (fgm + fga), 4)), fgm, (fgm+fga)))\n",
    "\n",
    "temp=[]\n",
    "for team in madeshots_team:\n",
    "    for shot in madeshots_team[team]:\n",
    "        if shot['event_desc_id'] == '2FGM':\n",
    "            temp.append(shot)\n",
    "fgm2_team=temp            \n",
    "fgm2 = len(temp)\n",
    "\n",
    "temp=[]\n",
    "for team in missedshots_team:\n",
    "    for shot in missedshots_team[team]:\n",
    "        if shot['event_desc_id'] == '2FGA' or shot['event_desc_id'] == '2FGAB':\n",
    "            temp.append(shot)\n",
    "fga2_team=temp            \n",
    "fga2 = len(temp)\n",
    "\n",
    "print('2fg% {} {}/{}'.format((round(fgm2 / (fgm2 + fga2), 4)), fgm2, (fgm2+fga2)))\n",
    "\n",
    "temp=[]\n",
    "for team in madeshots_team:\n",
    "    for shot in madeshots_team[team]:\n",
    "        if shot['event_desc_id'] == '3FGM':\n",
    "            temp.append(shot)\n",
    "fgm3_team=temp            \n",
    "fgm3 = len(temp)\n",
    "\n",
    "temp=[]\n",
    "for team in missedshots_team:\n",
    "    for shot in missedshots_team[team]:\n",
    "        if shot['event_desc_id'] == '3FGA' or shot['event_desc_id'] == '3FGAB':\n",
    "            temp.append(shot)\n",
    "fga3_team=temp        \n",
    "fga3 = len(temp)\n",
    "\n",
    "print('3fg% {} {}/{}'.format((round(fgm3 / (fgm3 + fga3), 4)), fgm3, (fgm3+fga3)))\n",
    "\n",
    "###eFG% = (2FGM + 1.5*3FGM) / (FGM + FGA)\n",
    "print('efg% {} ({} + 1.5 * {}) / ({} + {})'.format(round(((fgm2 + 1.5 * fgm3)/(fgm + fga)), 4), fgm2, fgm3, fgm, fga))"
   ]
  },
  {
   "cell_type": "code",
   "execution_count": null,
   "metadata": {
    "collapsed": false,
    "deletable": true,
    "editable": true,
    "scrolled": true
   },
   "outputs": [],
   "source": [
    "### FG% AFTER OREB\n",
    "#define shot after oreb:\n",
    "#     oreb by TeamA\n",
    "#     -----------------\n",
    "#     TeamA does not TO, OF, FV, D, ST\n",
    "#     TeamB does not 2FGA, 2FGAB, 2FGM, 3FGA, 3FGAB, 3FGM, AG, O, TO, OF, FTA, FTM\n",
    "#     There are no BP, EG \n",
    "#     There are no play stoppages IN, OUT, TOUT_TV, TOUT, CMU, CMT, B, CMD\n",
    "#     -----------------\n",
    "#     fgm/fga by TeamA\n",
    "temp=[]\n",
    "oreb_fgs = [] #{'oreb', 'shot'}\n",
    "for i, r in enumerate(pbp):\n",
    "    if r['event_desc_id'] == 'O':\n",
    "        temp_oreb_fgs = {}\n",
    "        temp_oreb_fgs['oreb'] = r\n",
    "        k=i\n",
    "        offense = r['team_id']\n",
    "        while True:\n",
    "            i += 1\n",
    "            if i - k < 5 and pbp[i]['team_id'] == offense and any([pbp[i]['event_desc_id'] == e for e in ('2FGA', '2FGAB', '2FGM', '3FGA', '3FGAB', '3FGM')]):\n",
    "                temp.append(pbp[i])\n",
    "                temp_oreb_fgs['shot'] = pbp[i]\n",
    "                oreb_fgs.append(temp_oreb_fgs)\n",
    "                break\n",
    "            if pbp[i]['team_id'] == offense and any([pbp[i]['event_desc_id'] == e for e in ('O', 'TO', 'OF', 'FV', 'D', 'ST')]):\n",
    "                break\n",
    "            if pbp[i]['team_id'] != offense and any([pbp[i]['event_desc_id'] == e for e in ('2FGA', '2FGAB', '2FGM', '3FGA', '3FGAB', '3FGM', 'AG', 'O', 'TO', 'OF', 'FTA', 'FTM', 'BP', 'EG')]):\n",
    "                break\n",
    "            if any([pbp[i]['event_desc_id'] == e for e in ('IN', 'OUT', 'TOUT_TV', 'TOUT', 'CMU', 'CMT', 'B', 'CMD')]):\n",
    "                break\n",
    "                    \n",
    "oreb_fg = temp"
   ]
  },
  {
   "cell_type": "markdown",
   "metadata": {
    "deletable": true,
    "editable": true
   },
   "source": [
    "play stoppage means the offensive rebounding team reverts to a half-court offense, which negates the post-oreb possession. therefore, it is removed from consideration for fg% after orebs."
   ]
  },
  {
   "cell_type": "code",
   "execution_count": null,
   "metadata": {
    "collapsed": false,
    "deletable": true,
    "editable": true
   },
   "outputs": [],
   "source": [
    "fgm2_split_team = {}\n",
    "fga2_split_team = {}\n",
    "fgm3_split_team = {}\n",
    "fga3_split_team = {}\n",
    "\n",
    "for team in team_ids:\n",
    "    fgm2_split_team[team] = []\n",
    "    fga2_split_team[team] = []\n",
    "    fgm3_split_team[team] = []\n",
    "    fga3_split_team[team] = []\n",
    "    \n",
    "for f in fgm2_team:\n",
    "    fgm2_split_team[f['team_id']].append(f)\n",
    "for f in fga2_team:\n",
    "    fga2_split_team[f['team_id']].append(f)\n",
    "for f in fgm3_team:\n",
    "    fgm3_split_team[f['team_id']].append(f)\n",
    "for f in fga3_team:\n",
    "    fga3_split_team[f['team_id']].append(f)\n",
    "    \n",
    "    "
   ]
  },
  {
   "cell_type": "code",
   "execution_count": null,
   "metadata": {
    "collapsed": false,
    "deletable": true,
    "editable": true,
    "scrolled": false
   },
   "outputs": [],
   "source": [
    "temp_2chance = {}\n",
    "temp_overall = {}\n",
    "for team in team_ids:\n",
    "    temp_overall[team] = {}\n",
    "    temp_overall[team]['events'] = []\n",
    "    temp_2chance[team] = {}\n",
    "    temp_2chance[team]['events'] = []\n",
    "for o in oreb_fgs:\n",
    "    temp_2chance[o['oreb']['team_id']]['events'].append(o)\n",
    "    \n",
    "# print(temp_2chance['CSK']['events'][0]['shot'])\n",
    "   \n",
    "for team in team_ids:\n",
    "    temp_2chance[team]['2fgm']=[e for e in temp_2chance[team]['events'] if e['shot']['event_desc_id'] == '2FGM']\n",
    "    temp_2chance[team]['2fga']=[e for e in temp_2chance[team]['events'] if e['shot']['event_desc_id'] == '2FGA'] + [e for e in temp_2chance[team]['events'] if e['shot']['event_desc_id'] == '2FGAB']\n",
    "    temp_2chance[team]['3fgm']=[e for e in temp_2chance[team]['events'] if e['shot']['event_desc_id'] == '3FGM']\n",
    "    temp_2chance[team]['3fga']=[e for e in temp_2chance[team]['events'] if e['shot']['event_desc_id'] == '3FGA'] + [e for e in temp_2chance[team]['events'] if e['shot']['event_desc_id'] == '3FGAB']\n",
    "\n",
    "temp_2change_efg = []\n",
    "for team in team_ids:\n",
    "    temp_2change_efg.append([team,\n",
    "                             len(temp_2chance[team]['events']),\n",
    "                             len(temp_2chance[team]['2fgm']),\n",
    "                             len(temp_2chance[team]['2fga']),\n",
    "                             len(temp_2chance[team]['3fgm']),\n",
    "                             len(temp_2chance[team]['3fga']),\n",
    "                             round((len(temp_2chance[team]['2fgm']) + len(temp_2chance[team]['3fgm'])) /\n",
    "                                   (len(temp_2chance[team]['2fgm']) +\n",
    "                                    len(temp_2chance[team]['2fga']) +\n",
    "                                    len(temp_2chance[team]['3fgm']) +\n",
    "                                    len(temp_2chance[team]['3fga'])), 4), \n",
    "                             round((len(temp_2chance[team]['2fgm']) + 1.5 * len(temp_2chance[team]['3fgm'])) /\n",
    "                                   (len(temp_2chance[team]['2fgm']) +\n",
    "                                    len(temp_2chance[team]['2fga']) +\n",
    "                                    len(temp_2chance[team]['3fgm']) +\n",
    "                                    len(temp_2chance[team]['3fga'])), 4),\n",
    "                             round((len(fgm2_split_team[team]) + 1.5 * len(fgm3_split_team[team])) /\n",
    "                                   (len(fgm2_split_team[team]) + \n",
    "                                   len(fga2_split_team[team]) + \n",
    "                                   len(fgm3_split_team[team]) + \n",
    "                                   len(fga3_split_team[team]) ), 4),\n",
    "                             \n",
    "                            ((len(temp_2chance[team]['2fgm']) + 1.5 * len(temp_2chance[team]['3fgm'])) /\n",
    "                                   (len(temp_2chance[team]['2fgm']) +\n",
    "                                    len(temp_2chance[team]['2fga']) +\n",
    "                                    len(temp_2chance[team]['3fgm']) +\n",
    "                                    len(temp_2chance[team]['3fga'])) / \n",
    "                            ((len(fgm2_split_team[team]) + 1.5 * len(fgm3_split_team[team])) /\n",
    "                                   (len(fgm2_split_team[team]) + \n",
    "                                   len(fga2_split_team[team]) + \n",
    "                                   len(fgm3_split_team[team]) + \n",
    "                                   len(fga3_split_team[team]) )))\n",
    "                            ])\n",
    "    \n",
    "    \n",
    "#eFG% = (2fgm + 1.5*3fgm) / (2fga + 3fga)\n",
    "\n",
    "print(tabulate(reversed(sorted(temp_2change_efg, key=lambda x: x[9])), headers=('team', 'orebs', '+ 2fg', '- 2fg', '+ 3fg', '- 3fg', 'oreb-FG%','oreb-eFG%', 'eFG%', 'oreb-eFG / eFG')))"
   ]
  },
  {
   "cell_type": "markdown",
   "metadata": {
    "deletable": true,
    "editable": true
   },
   "source": [
    "# Identify the top 5 teams & players whose offensive rebounds most effectively yield 2nd chance points.\n",
    "\n",
    "Mostly, a good offensive team also scores efficiently on 2nd chance points, which doesn't say much about whether a team gets offensive rebounds that yield easier scoring opportunities. To discern the difference, the disparity between eFG% after an oreb, and eFG% overall for a team is measured. The sample sizes are too small and noisy to make strong claim.\n",
    "\n",
    "__Zalgiris Kaunas (ZAL)__ is the first team among the top oreb-eFG%/eFG% ratio teams that don't suffer from unuseably small sample sizes. At 186 orebs, their oreb-eFG is 10% higher than overall-eFG. So to strictly answer the question, ZAL has to be included in the top 5 teams.\n",
    "\n",
    "__Khimki Moscow Region (KHI)__ is the next up, their oreb-eFG just short of 10% higher than overall-eFG. Their sample size is also good, so one can claim that the 10% disparity is a product of the team's offensive rebounding dynamic, instead of statistical noise.\n",
    "\n",
    "__CSKA Moscow (CSK)__ is not among the teams whose oreb-eFG numbers are way higher than their overal-eFG. However, they rebound more than both teams above on the list, (ZAL, KHI), and their oreb-eFG in general leads the league at almost 62%, the only team higher than 60%. But as stated above, their high oreb-eFG% is a product of their efficient offense in general.\n",
    "\n",
    "__~~Dinamo Banco di Sardegna Sassari (SAS)~~__ has to be considered just because of their whopping 20% increase in eFG in 2nd chance points compared to overall eFG, and they get offensive rebounds at a pretty high clip, but they did not play many games, only 54 offensive rebounds in the season. Too noisy to count.\n",
    "\n",
    "__Real Madrid (MAD)__ is 2nd in the league in raw offensive rebounds, and they get about 8% higher eFG after an oreb than overall, which is 6th best. Very solid all around, with a large sample size.\n",
    "\n",
    "__Olympiacos Piraeus (OLY)__ is on the fringe, but sneaks in because of their large sample size, good overall oreb numbers, and 7th overall in oreb-eFG%/eFG% ratio. Nothing too flashy about them, but good enough."
   ]
  },
  {
   "cell_type": "code",
   "execution_count": null,
   "metadata": {
    "collapsed": false,
    "deletable": true,
    "editable": true
   },
   "outputs": [],
   "source": [
    "temp_2chance_player = []\n",
    "\n",
    "temp_oreb_player={}\n",
    "for p in player_infos:\n",
    "    temp_oreb_player[p] = []\n",
    "\n",
    "for o in oreb_fgs:\n",
    "    if o['oreb']['player_id'] == '': continue\n",
    "    temp_oreb_player[o['oreb']['player_id']].append(o['shot'])\n",
    "    \n",
    "for player_id, shots in temp_oreb_player.items():\n",
    "    fga=(len([s for s in shots if any([s['event_desc_id'] == x for x in ['2FGM', '3FGM', '2FGA', '3FGA', '2FGAB', '3FGAB']])]))\n",
    "    if fga==0: continue\n",
    "    efg = (len([s for s in shots if s['event_desc_id'] == '2FGM']) + 1.5 * len([s for s in shots if s['event_desc_id'] == '3FGM'])) / fga\n",
    "    if efg > 0.6 and fga > 20:\n",
    "        temp_2chance_player.append((player_id, player_infos[player_id]['team'][0], efg, fga))\n"
   ]
  },
  {
   "cell_type": "code",
   "execution_count": null,
   "metadata": {
    "collapsed": false,
    "deletable": true,
    "editable": true,
    "scrolled": true
   },
   "outputs": [],
   "source": [
    "print(tabulate(reversed(sorted(temp_2chance_player, key=lambda x: x[2]))))"
   ]
  },
  {
   "cell_type": "markdown",
   "metadata": {
    "deletable": true,
    "editable": true
   },
   "source": [
    "## Top 5 Players whose offensive rebounds most effectively yield 2nd chance points"
   ]
  },
  {
   "cell_type": "code",
   "execution_count": null,
   "metadata": {
    "collapsed": false,
    "deletable": true,
    "editable": true,
    "scrolled": true
   },
   "outputs": [],
   "source": [
    "for p in ['P002812', 'PJDU', 'P000925', 'P006503', 'PLHI', 'P005927']:\n",
    "    print(player_infos[p]['name'])\n"
   ]
  },
  {
   "cell_type": "markdown",
   "metadata": {
    "deletable": true,
    "editable": true
   },
   "source": [
    "These are the top 5 players in terms of eFG% of shots by him or his teammates after his offensive rebounds.\n",
    "\n",
    "* ['HINES, KYLE']\n",
    "* ['RADULJICA, MIROSLAV']\n",
    "* ['VESELY, JAN']\n",
    "* ['UDOH, EKPE']\n",
    "* ~~['VORONTSEVICH, ANDREY']~~\n",
    "\n",
    "I set the limit at 20 shot attempts after a player's offensive rebounds, and the results are decent. 'VORONTSEVICH, ANDREY' is very questionable because of his orebs -> shot attempts numbers at 25. I prefer ['AYON, GUSTAVO'], just because he puts up huge oreb numbers, and the subsequent shot attempt eFG% is 12th best. Not great, but extremely consistent.\n",
    "\n",
    "My Final List\n",
    "\n",
    "* ['HINES, KYLE']\n",
    "* ['RADULJICA, MIROSLAV']\n",
    "* ['VESELY, JAN']\n",
    "* ['UDOH, EKPE']\n",
    "* ['AYON, GUSTAVO']"
   ]
  },
  {
   "cell_type": "code",
   "execution_count": null,
   "metadata": {
    "collapsed": false,
    "deletable": true,
    "editable": true
   },
   "outputs": [],
   "source": [
    "oreb_fgm2 = len([t for t in temp if t['event_desc_id'] == '2FGM'])\n",
    "oreb_fga2 = len([t for t in temp if t['event_desc_id'] == '2FGA']) + len([t for t in temp if t['event_desc_id'] == '2FGAB'])\n",
    "oreb_fgm3 = len([t for t in temp if t['event_desc_id'] == '3FGM'])\n",
    "oreb_fga3 = len([t for t in temp if t['event_desc_id'] == '3FGA']) + len([t for t in temp if t['event_desc_id'] == '3FGAB'])\n",
    "oreb_fgm = oreb_fgm2+oreb_fgm3\n",
    "oreb_fga = oreb_fga2+oreb_fga3\n",
    "\n",
    "print('fg% {} {}/{}'.format((round(oreb_fgm / (oreb_fgm + oreb_fga), 4)), oreb_fgm, (oreb_fgm+oreb_fga)))\n",
    "print('2fg% {} {}/{}'.format((round(oreb_fgm2 / (oreb_fgm2 + oreb_fga2), 4)), oreb_fgm2, (oreb_fgm2+oreb_fga2)))\n",
    "print('3fg% {} {}/{}'.format((round(oreb_fgm3 / (oreb_fgm3 + oreb_fga3), 4)), oreb_fgm3, (oreb_fgm3+oreb_fga3)))\n",
    "print('efg% {} ({} + 1.5 * {}) / ({} + {})'.format(round(((oreb_fgm2 + 1.5 * oreb_fgm3)/(oreb_fgm + oreb_fga)), 4), oreb_fgm2, oreb_fgm3, oreb_fgm, oreb_fga))"
   ]
  },
  {
   "cell_type": "code",
   "execution_count": null,
   "metadata": {
    "collapsed": false,
    "deletable": true,
    "editable": true
   },
   "outputs": [],
   "source": [
    "temp=[]\n",
    "#temp.append(['overall', fgm, fgm+fga, round(100 * fgm/(fgm+fga), 2)])\n",
    "\n",
    "print('All Shots')\n",
    "print('-'*30)\n",
    "temp.append(['FG', fgm, fgm+fga, round(100 * fgm/(fgm+fga), 2)])\n",
    "temp.append(['2FG', fgm2, fgm2+fga2, round(100 * fgm2/(fgm2+fga2), 2)])\n",
    "temp.append(['3FG', fgm3, fgm3+fga3, round(100 * fgm3/(fgm3+fga3), 2)])\n",
    "temp.append(['eFG', None, None, round(100 * (fgm2 + 1.5 * fgm3)/(fgm+fga), 2)])\n",
    "print(tabulate(temp, headers=('', 'made', 'attempted', 'FG%')))\n"
   ]
  },
  {
   "cell_type": "markdown",
   "metadata": {
    "deletable": true,
    "editable": true
   },
   "source": [
    "# What is the 2P%, 3P%, eFG% of shots after offensive rebounds?"
   ]
  },
  {
   "cell_type": "code",
   "execution_count": null,
   "metadata": {
    "collapsed": false,
    "deletable": true,
    "editable": true,
    "scrolled": true
   },
   "outputs": [],
   "source": [
    "temp=[]\n",
    "#temp.append(['overall', fgm, fgm+fga, round(100 * fgm/(fgm+fga), 2)])\n",
    "\n",
    "print('Shots after an Offensive Rebound')\n",
    "print('-'*30)\n",
    "temp.append(['FG', oreb_fgm, oreb_fgm+oreb_fga, round(100 * oreb_fgm/(oreb_fgm+oreb_fga), 2)])\n",
    "temp.append(['2FG', oreb_fgm2, oreb_fgm2+oreb_fga2, round(100 * oreb_fgm2/(oreb_fgm2+oreb_fga2), 2)])\n",
    "temp.append(['3FG', oreb_fgm3, oreb_fgm3+oreb_fga3, round(100 * oreb_fgm3/(oreb_fgm3+oreb_fga3), 2)])\n",
    "temp.append(['eFG', None, None, round(100 * (oreb_fgm2 + 1.5 * oreb_fgm3)/(oreb_fgm+oreb_fga), 2)])\n",
    "print(tabulate(temp, headers=('', 'made', 'attempted', 'FG%')))\n"
   ]
  },
  {
   "cell_type": "code",
   "execution_count": null,
   "metadata": {
    "collapsed": false,
    "deletable": true,
    "editable": true
   },
   "outputs": [],
   "source": [
    "for r in pbp:\n",
    "    if r['event_desc_id'] == '2FGA':\n",
    "        print(r)\n",
    "        break"
   ]
  },
  {
   "cell_type": "markdown",
   "metadata": {
    "deletable": true,
    "editable": true
   },
   "source": [
    "# additional data would you acquire/use to predict likelihood of scoring 2nd chance points?"
   ]
  },
  {
   "cell_type": "markdown",
   "metadata": {
    "deletable": true,
    "editable": true
   },
   "source": [
    "* location of orebs\n",
    "* location of other players at the time of the missed shot and rebound (many defensive players may be out of position to defend another possession)\n",
    "* height/position of the rebounder"
   ]
  },
  {
   "cell_type": "markdown",
   "metadata": {
    "deletable": true,
    "editable": true
   },
   "source": [
    "From the EuroLeague 2014-15 and 2016-17 rulebooks\n",
    "\n",
    ">Dimensions: The playing area must be adapted to the\n",
    "dimensions and the markings established by FIBA. \n",
    "\n",
    "From the FIBA 2014-15 rulebooks, Article 2. Court\n",
    "\n",
    ">__2.1. Playing court__\n",
    "\n",
    ">The playing court shall have a flat, hard surface free from obstructions (Diagram 1)\n",
    "with dimensions of 28 m in length by 15 m in width measured from the inner edge of\n",
    "the boundary line.\n",
    "\n",
    ">__2.2. Backcourt__\n",
    "\n",
    ">A team's backcourt consists of its team's own basket, the inbounds part of the\n",
    "backboard and that part of the playing court limited by the endline behind their own\n",
    "basket, the sidelines and the centre line.\n",
    "\n",
    ">__2.3. Frontcourt__\n",
    "\n",
    ">A team's frontcourt consists of the opponents' basket, the inbounds part of the\n",
    "backboard and that part of the playing court limited by the endline behind the\n",
    "opponents' basket, the sidelines and the inner edge of the centre line nearest to the\n",
    "opponents' basket.\n",
    "\n",
    ">__2.4. Lines__\n",
    "\n",
    ">All lines shall be drawn in white colour, 5 cm in width and clearly visible.\n",
    "\n",
    ">>__2.4.1. Boundary line__\n",
    "\n",
    ">>The playing court shall be limited by the boundary line, consisting of the endlines\n",
    "and the sidelines. These lines are not part of the playing court.\n",
    "Any obstruction including seated team bench personnel shall be at least 2 m from\n",
    "the playing court.\n",
    "\n",
    ">>__2.4.2. Centre line, centre circle and free-throw semi-circles__\n",
    "\n",
    ">>The centre line shall be marked parallel to the endlines from the mid-point of the\n",
    "sidelines. It shall extend 0.15 m beyond each sideline. The centre line is part of the\n",
    "backcourt.\n",
    "The centre circle shall be marked in the centre of the playing court and have a\n",
    "radius of 1.80 m measured to the outer edge of the circumference. If the inside of\n",
    "the centre circle is painted, it must be the same colour as the restricted areas.\n",
    "The free-throw semi-circles shall be marked on the playing court with a radius of\n",
    "1.80 m measured to the outer edge of the circumference and with their centres at\n",
    "the mid-point of the free-throw lines (Diagram 2).\n",
    "\n",
    ">>__2.4.3. Free-throw lines, restricted areas and free-throw rebound places__\n",
    "\n",
    ">>The free-throw line shall be drawn parallel to each endline. It shall have its furthest\n",
    "edge 5.80 m from the inner edge of the endline and shall be 3.60 m long. Its mid-point\n",
    "shall lie on the imaginary line joining the mid-point of the 2 endlines.\n",
    "\n",
    ">>The restricted areas shall be the rectangular areas marked on the playing court\n",
    "limited by the endlines, the extended free-throw lines and the lines which originate\n",
    "at the endlines, their outer edges being 2.45 m from the mid-point of the endlines\n",
    "and terminating at the outer edge of the extended free-throw lines. These lines,\n",
    "excluding the endlines, are part of the restricted area. The inside of the restricted\n",
    "areas must be painted in one colour.\n",
    "\n",
    ">>Free-throw rebound places along the restricted areas, reserved for players during\n",
    "free throws, shall be marked as in Diagram 2.\n",
    "\n",
    ">>__2.4.4. 3-point field goal area__\n",
    "\n",
    ">>>The team's 3-point field goal area (Diagram 1 and Diagram 3) shall be the entire floor\n",
    "area of the playing court, except for the area near the opponents' basket, limited by\n",
    "and including:\n",
    "\n",
    ">>>>• The 2 parallel lines extending from and perpendicular to the endline, with the\n",
    "outer edge 0.90 m from the inner edge of the sidelines.\n",
    "\n",
    ">>>>• An arc of radius 6.75 m measured from the point on the floor beneath the exact\n",
    "centre of the opponents' basket to the outer edge of the arc. The distance of\n",
    "the point on the floor from the inner edge of the mid-point of the endline is\n",
    "1.575 m. The arc is joined to the parallel lines.\n",
    "The 3-point line is not part of the 3-point field goal area."
   ]
  },
  {
   "cell_type": "markdown",
   "metadata": {
    "deletable": true,
    "editable": true
   },
   "source": [
    "From the 2015 amendments to the FIBA rulebook (which are the same as above word-for-word, except as marked)\n",
    "\n",
    ">__2.4.3. Free-throw lines, restricted areas, and free-throw rebound places__\n",
    "\n",
    ">The free-throw line shall be drawn parallel to each endline. It shall have its furthest edge 5.80 m from the inner edge of the endline and shall be 3.60 m long. Its mid-point shall lie on the imaginary line joining the mid-point of the two endlines.\n",
    "\n",
    ">The restricted areas shall be the rectangular areas marked on the playing court limited by the endlines, the extended free-throw lines and the lines which originate at the endlines, their outer edges being 2.45 m from the mid-point of the endlines and terminating at the outer edge of the extended free-throw lines. These lines, excluding the endlines, are part of the restricted area. ~~The inside of the restricted areas must be painted in one colour.~~\n",
    "\n",
    ">Free-throw rebound places along the restricted areas, reserved for players during free throws, shall be marked as in Diagram 2."
   ]
  },
  {
   "cell_type": "code",
   "execution_count": null,
   "metadata": {
    "collapsed": false,
    "deletable": true,
    "editable": true
   },
   "outputs": [],
   "source": [
    "Image('./img/fullcourt.jpg')"
   ]
  },
  {
   "cell_type": "code",
   "execution_count": null,
   "metadata": {
    "collapsed": false,
    "deletable": true,
    "editable": true
   },
   "outputs": [],
   "source": [
    "Image('./img/paint.jpg')"
   ]
  },
  {
   "cell_type": "code",
   "execution_count": null,
   "metadata": {
    "collapsed": true,
    "deletable": true,
    "editable": true
   },
   "outputs": [],
   "source": [
    "def getCoords(event):\n",
    "    if event['coord_x'] == '' or event['coord_y'] == '': return None\n",
    "    return (float(event['coord_x']) / 100.0, float(event['coord_y']) / 100.0)"
   ]
  },
  {
   "cell_type": "code",
   "execution_count": null,
   "metadata": {
    "collapsed": true,
    "deletable": true,
    "editable": true
   },
   "outputs": [],
   "source": [
    "def getRegion(event):\n",
    "    #Regions = ('2r', '2p', '2m', '3c', '3a')\n",
    "    '''\n",
    "    '''\n",
    "    coords = getCoords(event)\n",
    "    if any([event['event_desc_id'] == e for e in ('2FGA', '2FGAB', '2FGM')]):\n",
    "        if abs(coords[0]) < 2.45 and coords[1] <  4.225:\n",
    "            if (abs(coords[0]) < 1.5 and coords[1] > -0.375 and coords[1] <= 0.0) or (coords[1] > 0 and distance.euclidean((0,0), coords) < 1.25):\n",
    "                return '2r'\n",
    "            else: return '2p'\n",
    "        else: return '2m'\n",
    "\n",
    "    if any([event['event_desc_id'] == e for e in ('3FGA', '3FGAB', '3FGM')]):\n",
    "        if coords[1] < 1.42:\n",
    "            return '3c'\n",
    "        else: return '3a'\n",
    "    return None\n",
    "        "
   ]
  },
  {
   "cell_type": "code",
   "execution_count": null,
   "metadata": {
    "collapsed": false,
    "deletable": true,
    "editable": true
   },
   "outputs": [],
   "source": [
    "fgm = [m for team, m in madeshots_team.items()]\n",
    "fga = [m for team, m in missedshots_team.items()]\n",
    "\n",
    "temp=[]\n",
    "for team in fgm:\n",
    "    for shot in team:\n",
    "        if shot['event_desc_id'] == '2FGM':\n",
    "            temp.append(shot)\n",
    "fgm2_event = temp\n",
    "\n",
    "temp=[]\n",
    "for team in fga:\n",
    "    for shot in team:\n",
    "        if shot['event_desc_id'] == '2FGA' or shot['event_desc_id'] == '2FGAB':\n",
    "            temp.append(shot)\n",
    "fga2_event = temp\n",
    "\n",
    "\n",
    "temp=[]\n",
    "for team in fgm:\n",
    "    for shot in team:\n",
    "        if shot['event_desc_id'] == '3FGM':\n",
    "            temp.append(shot)\n",
    "fgm3_event = temp\n",
    "\n",
    "temp=[]\n",
    "for team in fga:\n",
    "    for shot in team:\n",
    "        if shot['event_desc_id'] == '3FGA' or shot['event_desc_id'] == '3FGAB':\n",
    "            temp.append(shot)\n",
    "fga3_event = temp"
   ]
  },
  {
   "cell_type": "code",
   "execution_count": null,
   "metadata": {
    "collapsed": false,
    "deletable": true,
    "editable": true
   },
   "outputs": [],
   "source": [
    "fg_region = {}\n",
    "for region in ('2r', '2p', '2m', '3c', '3a'):\n",
    "    fg_region[region] = ([o for o in fgm2_event if getRegion(o) == region] + \n",
    "                         [o for o in fgm3_event if getRegion(o) == region], \n",
    "                         [o for o in fga2_event if getRegion(o) == region] + \n",
    "                         [o for o in fga3_event if getRegion(o) == region])\n",
    "    \n",
    "for region, o in fg_region.items():\n",
    "    print(region, len(o[0]), len(o[1]))"
   ]
  },
  {
   "cell_type": "code",
   "execution_count": null,
   "metadata": {
    "collapsed": false,
    "deletable": true,
    "editable": true
   },
   "outputs": [],
   "source": [
    "oreb_fg\n",
    "\n",
    "oreb_fgm2_event = [t for t in oreb_fg if t['event_desc_id'] == '2FGM']\n",
    "oreb_fga2_event = [t for t in oreb_fg if t['event_desc_id'] == '2FGA'] + [t for t in oreb_fg if t['event_desc_id'] == '2FGAB']\n",
    "oreb_fgm3_event = [t for t in oreb_fg if t['event_desc_id'] == '3FGM']\n",
    "oreb_fga3_event = [t for t in oreb_fg if t['event_desc_id'] == '3FGA'] + [t for t in oreb_fg if t['event_desc_id'] == '3FGAB']\n",
    "\n",
    "print(len(oreb_fgm2_event))\n",
    "print(len(oreb_fga2_event))\n",
    "\n",
    "print(len(oreb_fgm3_event))\n",
    "print(len(oreb_fga3_event))"
   ]
  },
  {
   "cell_type": "code",
   "execution_count": null,
   "metadata": {
    "collapsed": false,
    "deletable": true,
    "editable": true
   },
   "outputs": [],
   "source": [
    "oreb_fg_region = {}\n",
    "for region in ('2r', '2p', '2m', '3c', '3a'):\n",
    "    oreb_fg_region[region] = ([o for o in oreb_fgm2_event if getRegion(o) == region] + \n",
    "                              [o for o in oreb_fgm3_event if getRegion(o) == region], \n",
    "                              [o for o in oreb_fga2_event if getRegion(o) == region] + \n",
    "                              [o for o in oreb_fga3_event if getRegion(o) == region])\n",
    "    \n",
    "for region, o in oreb_fg_region.items():\n",
    "    print(region, len(o[0]), len(o[1]))\n",
    "  "
   ]
  },
  {
   "cell_type": "code",
   "execution_count": null,
   "metadata": {
    "collapsed": false,
    "deletable": true,
    "editable": true,
    "scrolled": true
   },
   "outputs": [],
   "source": [
    "temp=[]\n",
    "fg_region_tab={}\n",
    "for region, o in fg_region.items():\n",
    "    fg_region_tab[region] = [len(o[0]), len(o[0])+len(o[1]), round(len(o[0]) / (len(o[0])+len(o[1])),4)]\n",
    "    temp.append((region, len(o[0]), len(o[0])+len(o[1]), round(len(o[0]) / (len(o[0])+len(o[1])),4) ))\n",
    "    \n",
    "print(tabulate(temp, headers=('region', 'made', 'attempted', 'fg%')))"
   ]
  },
  {
   "cell_type": "markdown",
   "metadata": {
    "deletable": true,
    "editable": true
   },
   "source": [
    "# (Bonus) What is the FG% of shots after offensive rebounds in each court zone (restricted area, (non-RA) in-the-paint, midrange, corner 3, above break 3)?"
   ]
  },
  {
   "cell_type": "code",
   "execution_count": null,
   "metadata": {
    "collapsed": false,
    "deletable": true,
    "editable": true
   },
   "outputs": [],
   "source": [
    "  \n",
    "temp=[]\n",
    "oreb_fg_region_tab={}\n",
    "for region, o in oreb_fg_region.items():\n",
    "    oreb_fg_region_tab[region] = [len(o[0]), len(o[0])+len(o[1]), round(len(o[0]) / (len(o[0])+len(o[1])),4)]\n",
    "    temp.append((region, len(o[0]), len(o[0])+len(o[1]), round(len(o[0]) / (len(o[0])+len(o[1])),4) ))\n",
    "\n",
    "print(tabulate(temp, headers=('region', 'made', 'attempted', 'fg%')))"
   ]
  },
  {
   "cell_type": "code",
   "execution_count": null,
   "metadata": {
    "collapsed": false,
    "deletable": true,
    "editable": true
   },
   "outputs": [],
   "source": [
    "made = [(o['coord_x'], o['coord_y']) for o in oreb_fgm2_event] + [(o['coord_x'], o['coord_y']) for o in oreb_fgm3_event]\n",
    "\n",
    "missed = [(o['coord_x'], o['coord_y']) for o in oreb_fga2_event] + [(o['coord_x'], o['coord_y']) for o in oreb_fga3_event]\n",
    "print(len(made), len(missed))"
   ]
  },
  {
   "cell_type": "markdown",
   "metadata": {
    "deletable": true,
    "editable": true
   },
   "source": [
    "(x,y) coordinates for shots have already been cleaned up, folding the locations into one basket."
   ]
  },
  {
   "cell_type": "raw",
   "metadata": {
    "collapsed": false,
    "deletable": true,
    "editable": true
   },
   "source": [
    "fig = plt.figure(figsize=(15, 15))\n",
    "ax = fig.add_subplot(111)\n",
    "\n",
    "scats=[]\n",
    "scats.append(ax.scatter([m[0] for m in missed], [m[1] for m in missed], edgecolor='r', facecolor='none'))\n",
    "scats.append(ax.scatter([m[0] for m in made], [m[1] for m in made], edgecolor='g', facecolor='none'))\n",
    "\n",
    "    #ax.plot([t[0] for t in temp[c]], [t[1] for t in temp[c]], color=colors[i], linestyle='-')\n",
    "#ax.set_xlim(1, 250)\n",
    "#ax.set_ylim(0, 0.6)\n",
    "ax.set_aspect('equal')\n",
    "ax.set_xlabel('')\n",
    "ax.set_ylabel('')\n",
    "ax.set_title('')\n",
    "\n",
    "plt.legend(scats, ('made', 'missed'))\n",
    "plt.show()"
   ]
  },
  {
   "cell_type": "raw",
   "metadata": {
    "deletable": true,
    "editable": true
   },
   "source": [
    "x = [x['coord_x'] for x in pbp]\n",
    "xx=[]\n",
    "for a in x:\n",
    "    if a != '':\n",
    "        xx.append(float(a))\n",
    "        \n",
    "y = [x['coord_y'] for x in pbp]\n",
    "yy=[]\n",
    "for a in y:\n",
    "    if a != '':\n",
    "        yy.append(float(a))\n",
    "        \n",
    "print(len(x), len(xx))\n",
    "print(len(y), len(yy))\n",
    "\n",
    "print(max(xx))\n",
    "print(min(xx))\n",
    "print(max(yy))\n",
    "print(min(yy))"
   ]
  },
  {
   "cell_type": "code",
   "execution_count": null,
   "metadata": {
    "collapsed": false,
    "deletable": true,
    "editable": true,
    "scrolled": false
   },
   "outputs": [],
   "source": [
    "\n",
    "fig = plt.figure(figsize=(15, 15))\n",
    "ax = fig.add_subplot(111)\n",
    "\n",
    "lines=[]\n",
    "#out of bounds\n",
    "lines.append(Line2D([-7.5],[-1.575, 14], color='k'))\n",
    "lines.append(Line2D([7.5], [-1.575, 14], color='k'))\n",
    "lines.append(Line2D([-7.5, 7.5], [-1.575], color='k'))\n",
    "#center line\n",
    "lines.append(Line2D([-7.5, 7.5], [14], color='k'))\n",
    "\n",
    "#paint\n",
    "lines.append(Line2D([-2.45, 2.45], [4.225], color='k'))\n",
    "lines.append(Line2D([-2.45], [-1.575, 4.225], color='k'))\n",
    "lines.append(Line2D([2.45], [-1.575, 4.225], color='k'))\n",
    "\n",
    "#backboard\n",
    "lines.append(Line2D([-.5, .5], [-.375], color='k'))\n",
    "\n",
    "#restricted area extend\n",
    "lines.append(Line2D([-1.25], [0, -0.375], color='k'))\n",
    "lines.append(Line2D([1.25], [0, -0.375], color='k'))\n",
    "\n",
    "#3 point line extended (corner 3)\n",
    "lines.append(Line2D([-7.5+0.9], [-1.575, 1.42], color='k'))\n",
    "lines.append(Line2D([7.5-0.9], [-1.575, 1.42], color='k'))\n",
    "             \n",
    "for l in lines:\n",
    "    ax.add_line(l)\n",
    "\n",
    "circles=[]\n",
    "#hoop\n",
    "circles.append(plt.Circle((0, 0), 0.25, facecolor='none', edgecolor='k'))\n",
    "#(0,0) dot\n",
    "circles.append(plt.Circle((0, 0), 0.01, facecolor='none', edgecolor='k'))\n",
    "#restricted area\n",
    "#circles.append(plt.Circle((0, 0), 1.25, facecolor='none', edgecolor='k'))\n",
    "\n",
    "for c in circles:\n",
    "    ax.add_artist(c)\n",
    "    \n",
    "#w1 = Wedge((0,0), 1.25, 0, 180, facecolor='none', edgecolor='k')\n",
    "#ax.add_artist(w1)\n",
    "\n",
    "arcs=[]\n",
    "#restricted area\n",
    "arcs.append(mpatches.Arc((0,0), width = 2.5, height = 2.5, theta1=0.0, theta2=180.0, color='black', linewidth=1.5))\n",
    "#free throw half-circle\n",
    "arcs.append(mpatches.Arc((0,4.225), width = 3.6, height = 3.6, theta1=0.0, theta2=180.0, color='black', linewidth=1.5))\n",
    "#3 point line\n",
    "arcs.append(mpatches.Arc((0,0), width = 13.5, height = 13.5, theta1=12.1, theta2=180.0-12.1, color='black', linewidth=1.5))\n",
    "#center circle\n",
    "arcs.append(mpatches.Arc((0, 14), width = 3.6, height = 3.6, theta1=180, theta2=0, color='black', linewidth=1.5))\n",
    "\n",
    "for a in arcs:\n",
    "    ax.add_patch(a)\n",
    "\n",
    "# missed_all=[]\n",
    "# made_all=[]\n",
    "# for team, events in madeshots_team.items():\n",
    "#     for event in events:\n",
    "#         made_all.append((event['coord_x'], event['coord_y']))\n",
    "        \n",
    "# for team, events in missedshots_team.items():\n",
    "#     for event in events:\n",
    "#         missed_all.append((event['coord_x'], event['coord_y']))\n",
    "\n",
    "# scats.append(ax.scatter([float(m[0])/100.0 for m in missed_all], [float(m[1])/100.0 for m in missed_all], 10, edgecolor='none', facecolor='r'))\n",
    "# scats.append(ax.scatter([float(m[0])/100.0 for m in made_all], [float(m[1])/100.0 for m in made_all], 10, edgecolor='none', facecolor='g'))\n",
    "\n",
    "# scats=[]\n",
    "# scats.append(ax.scatter([float(m[0])/100.0 for m in missed], [float(m[1])/100.0 for m in missed], 10, edgecolor='none', facecolor='r'))\n",
    "# scats.append(ax.scatter([float(m[0])/100.0 for m in made], [float(m[1])/100.0 for m in made], 10, edgecolor='none', facecolor='g'))\n",
    "\n",
    "scats = []\n",
    "#regions = ('2p', '2r', '2m', '3c', '3a')\n",
    "regions = ['2p']\n",
    "scats.append(ax.scatter([float(o['coord_x'])/100.0 for o in oreb_fga2_event if any([getRegion(o) == e for e in regions])] + \n",
    "                        [float(o['coord_x'])/100.0 for o in oreb_fga3_event if any([getRegion(o) == e for e in regions])], \n",
    "                        [float(o['coord_y'])/100.0 for o in oreb_fga2_event if any([getRegion(o) == e for e in regions])] + \n",
    "                        [float(o['coord_y'])/100.0 for o in oreb_fga3_event if any([getRegion(o) == e for e in regions])], \n",
    "                        20, marker = 'x', edgecolor='none', facecolor='r', alpha=0.5))\n",
    "scats.append(ax.scatter([float(o['coord_x'])/100.0 for o in oreb_fgm2_event if any([getRegion(o) == e for e in regions])] + \n",
    "                        [float(o['coord_x'])/100.0 for o in oreb_fgm3_event if any([getRegion(o) == e for e in regions])], \n",
    "                        [float(o['coord_y'])/100.0 for o in oreb_fgm2_event if any([getRegion(o) == e for e in regions])] + \n",
    "                        [float(o['coord_y'])/100.0 for o in oreb_fgm3_event if any([getRegion(o) == e for e in regions])], \n",
    "                        30, marker = 'o', edgecolor='g', facecolor='none', alpha=0.6))\n",
    "\n",
    "# plt.legend(scats, ('made', 'missed'), loc = 'upper right')\n",
    "\n",
    "\n",
    "\n",
    "ax.set_xlim(-8, 8)\n",
    "ax.set_ylim(-2.075, 10)\n",
    "ax.set_aspect('equal')\n",
    "ax.set_xlabel('')\n",
    "ax.set_ylabel('')\n",
    "ax.set_title('')\n",
    "\n",
    "plt.show()\n",
    "\n"
   ]
  },
  {
   "cell_type": "code",
   "execution_count": null,
   "metadata": {
    "collapsed": false,
    "deletable": true,
    "editable": true
   },
   "outputs": [],
   "source": [
    "\n",
    "fig = plt.figure(figsize=(15, 15))\n",
    "ax = fig.add_subplot(111)\n",
    "\n",
    "lines=[]\n",
    "#out of bounds\n",
    "lines.append(Line2D([-7.5],[-1.575, 14], color='k'))\n",
    "lines.append(Line2D([7.5], [-1.575, 14], color='k'))\n",
    "lines.append(Line2D([-7.5, 7.5], [-1.575], color='k'))\n",
    "#center line\n",
    "lines.append(Line2D([-7.5, 7.5], [14], color='k'))\n",
    "\n",
    "#paint\n",
    "lines.append(Line2D([-2.45, 2.45], [4.225], color='k'))\n",
    "lines.append(Line2D([-2.45], [-1.575, 4.225], color='k'))\n",
    "lines.append(Line2D([2.45], [-1.575, 4.225], color='k'))\n",
    "\n",
    "#backboard\n",
    "lines.append(Line2D([-.5, .5], [-.375], color='k'))\n",
    "\n",
    "#restricted area extend\n",
    "lines.append(Line2D([-1.25], [0, -0.375], color='k'))\n",
    "lines.append(Line2D([1.25], [0, -0.375], color='k'))\n",
    "\n",
    "#3 point line extended (corner 3)\n",
    "lines.append(Line2D([-7.5+0.9], [-1.575, 1.42], color='k'))\n",
    "lines.append(Line2D([7.5-0.9], [-1.575, 1.42], color='k'))\n",
    "\n",
    "#imaginary lines for zones\n",
    "\n",
    "             \n",
    "for l in lines:\n",
    "    ax.add_line(l)\n",
    "\n",
    "circles=[]\n",
    "#hoop\n",
    "circles.append(plt.Circle((0, 0), 0.25, facecolor='none', edgecolor='k'))\n",
    "#(0,0) dot\n",
    "circles.append(plt.Circle((0, 0), 0.01, facecolor='none', edgecolor='k'))\n",
    "#restricted area\n",
    "#circles.append(plt.Circle((0, 0), 1.25, facecolor='none', edgecolor='k'))\n",
    "\n",
    "for c in circles:\n",
    "    ax.add_artist(c)\n",
    "    \n",
    "#w1 = Wedge((0,0), 1.25, 0, 180, facecolor='none', edgecolor='k')\n",
    "#ax.add_artist(w1)\n",
    "\n",
    "arcs=[]\n",
    "#restricted area\n",
    "arcs.append(mpatches.Arc((0,0), width = 2.5, height = 2.5, theta1=0.0, theta2=180.0, color='black', linewidth=1.5))\n",
    "#free throw half-circle\n",
    "arcs.append(mpatches.Arc((0,4.225), width = 3.6, height = 3.6, theta1=0.0, theta2=180.0, color='black', linewidth=1.5))\n",
    "#3 point line\n",
    "arcs.append(mpatches.Arc((0,0), width = 13.5, height = 13.5, theta1=12.1, theta2=180.0-12.1, color='black', linewidth=1.5))\n",
    "#center circle\n",
    "arcs.append(mpatches.Arc((0, 14), width = 3.6, height = 3.6, theta1=180, theta2=0, color='black', linewidth=1.5))\n",
    "\n",
    "for a in arcs:\n",
    "    ax.add_patch(a)\n",
    "\n",
    "# missed_all=[]\n",
    "# made_all=[]\n",
    "# for team, events in madeshots_team.items():\n",
    "#     for event in events:\n",
    "#         made_all.append((event['coord_x'], event['coord_y']))\n",
    "        \n",
    "# for team, events in missedshots_team.items():\n",
    "#     for event in events:\n",
    "#         missed_all.append((event['coord_x'], event['coord_y']))\n",
    "\n",
    "# scats.append(ax.scatter([float(m[0])/100.0 for m in missed_all], [float(m[1])/100.0 for m in missed_all], 10, edgecolor='none', facecolor='r'))\n",
    "# scats.append(ax.scatter([float(m[0])/100.0 for m in made_all], [float(m[1])/100.0 for m in made_all], 10, edgecolor='none', facecolor='g'))\n",
    "\n",
    "# scats=[]\n",
    "# scats.append(ax.scatter([float(m[0])/100.0 for m in missed], [float(m[1])/100.0 for m in missed], 10, edgecolor='none', facecolor='r'))\n",
    "# scats.append(ax.scatter([float(m[0])/100.0 for m in made], [float(m[1])/100.0 for m in made], 10, edgecolor='none', facecolor='g'))\n",
    "\n",
    "# plt.legend(scats, ('made', 'missed'), loc = 'upper right')\n",
    "\n",
    "#fg% by zone\n",
    "\n",
    "\n",
    "#fill_between\n",
    "#so3\n",
    "x = np.arange(-7.5, 7.5,0.01)\n",
    "line_so3=10\n",
    "line_so3_a=5\n",
    "plt.fill_between(x, line_so3, line_so3_a, color='g', alpha=1)\n",
    "#rw3\n",
    "x = np.arange(-7.5, 0,0.01)\n",
    "line_rw3=-1.7245*x\n",
    "plt.fill_between(x, line_rw3, color='grey', alpha=1)\n",
    "#lw3\n",
    "x = np.arange(0, 7.5,0.01)\n",
    "line_lw3=1.7245*x\n",
    "plt.fill_between(x, line_lw3, color='grey', alpha=1)\n",
    "#rw2\n",
    "x = np.arange(-7.5+0.9, 0,0.01)\n",
    "line_rw2=np.sqrt(6.75**2 - x**2)\n",
    "line_rw2_a=1.42\n",
    "plt.fill_between(x, line_rw2, line_rw2_a, color='y', alpha=1)\n",
    "#lw2\n",
    "x = np.arange(0, 7.5-0.9,0.01)\n",
    "line_rw2=np.sqrt(6.75**2 - x**2)\n",
    "line_rw2_a=1.42\n",
    "plt.fill_between(x, line_rw2, line_rw2_a, color='orange', alpha=1)\n",
    "#rc3\n",
    "x = np.arange(-7.5, -7.5+0.9,0.01)\n",
    "line_rc3=1.42\n",
    "line_rc3_a=-1.575\n",
    "plt.fill_between(x, line_rc3, line_rc3_a, color='red', alpha=1)\n",
    "#lc3\n",
    "x = np.arange(7.5-0.9, 7.5,0.01)\n",
    "line_lc3=1.42\n",
    "line_lc3_a=-1.575\n",
    "plt.fill_between(x, line_lc3, line_lc3_a, color='red', alpha=1)\n",
    "#rc2\n",
    "x = np.arange(-7.5+0.9, -2.45, 0.01)\n",
    "line_rc2=1.42\n",
    "line_rc2_a=-1.575\n",
    "plt.fill_between(x, line_rc2, line_rc2_a, color='g', alpha=1)\n",
    "#lc2\n",
    "x = np.arange(2.45, 7.5-0.9, 0.01)\n",
    "line_lc2=1.42\n",
    "line_lc2_a=-1.575\n",
    "plt.fill_between(x, line_lc2, line_lc2_a, color='g', alpha=1)\n",
    "#pt2\n",
    "x = np.arange(-2.45, 2.45, 0.01)\n",
    "line_lc2=4.225\n",
    "line_lc2_a=-1.575\n",
    "plt.fill_between(x, line_lc2, line_lc2_a, color='b', alpha=1)\n",
    "#so2\n",
    "x = np.arange(-2.45, 2.45, 0.01)\n",
    "line_rw2=np.sqrt(6.75**2 - x**2)\n",
    "line_rw2_a=4.225\n",
    "plt.fill_between(x, line_rw2, line_rw2_a, color='r', alpha=1)\n",
    "#ra2\n",
    "x = np.arange(-1.25, 1.25, 0.01)\n",
    "line_ra2=np.sqrt(1.25**2 - x**2)\n",
    "line_ra2_a=-0.375\n",
    "plt.fill_between(x, line_ra2, line_ra2_a, color='grey', alpha=1)\n",
    "\n",
    "ax.set_xlim(-8, 8)\n",
    "ax.set_ylim(-2.075, 10)\n",
    "ax.set_aspect('equal')\n",
    "ax.set_xlabel('')\n",
    "ax.set_ylabel('')\n",
    "ax.set_title('')\n",
    "\n",
    "plt.show()\n",
    "\n"
   ]
  },
  {
   "cell_type": "markdown",
   "metadata": {
    "deletable": true,
    "editable": true
   },
   "source": [
    "# (Bonus) Build a visualization to show FG% of shots after offensive rebounds.\n"
   ]
  },
  {
   "cell_type": "code",
   "execution_count": null,
   "metadata": {
    "collapsed": false,
    "deletable": true,
    "editable": true
   },
   "outputs": [],
   "source": [
    "\n",
    "fig = plt.figure(figsize=(15, 15))\n",
    "ax = fig.add_subplot(111)\n",
    "\n",
    "lines=[]\n",
    "#out of bounds\n",
    "lines.append(Line2D([-7.5],[-1.575, 14], color='k'))\n",
    "lines.append(Line2D([7.5], [-1.575, 14], color='k'))\n",
    "lines.append(Line2D([-7.5, 7.5], [-1.575], color='k'))\n",
    "#center line\n",
    "lines.append(Line2D([-7.5, 7.5], [14], color='k'))\n",
    "\n",
    "#paint\n",
    "lines.append(Line2D([-2.45, 2.45], [4.225], color='k'))\n",
    "lines.append(Line2D([-2.45], [-1.575, 4.225], color='k'))\n",
    "lines.append(Line2D([2.45], [-1.575, 4.225], color='k'))\n",
    "\n",
    "#backboard\n",
    "lines.append(Line2D([-.5, .5], [-.375], color='k'))\n",
    "\n",
    "#restricted area extend\n",
    "lines.append(Line2D([-1.25], [0, -0.375], color='k'))\n",
    "lines.append(Line2D([1.25], [0, -0.375], color='k'))\n",
    "\n",
    "#3 point line extended (corner 3)\n",
    "lines.append(Line2D([-7.5+0.9], [-1.575, 1.42], color='k'))\n",
    "lines.append(Line2D([7.5-0.9], [-1.575, 1.42], color='k'))\n",
    "\n",
    "#imaginary lines for zones\n",
    "\n",
    "             \n",
    "for l in lines:\n",
    "    ax.add_line(l)\n",
    "\n",
    "circles=[]\n",
    "#hoop\n",
    "circles.append(plt.Circle((0, 0), 0.25, facecolor='none', edgecolor='k'))\n",
    "#(0,0) dot\n",
    "circles.append(plt.Circle((0, 0), 0.01, facecolor='none', edgecolor='k'))\n",
    "#restricted area\n",
    "#circles.append(plt.Circle((0, 0), 1.25, facecolor='none', edgecolor='k'))\n",
    "\n",
    "for c in circles:\n",
    "    ax.add_artist(c)\n",
    "    \n",
    "#w1 = Wedge((0,0), 1.25, 0, 180, facecolor='none', edgecolor='k')\n",
    "#ax.add_artist(w1)\n",
    "\n",
    "arcs=[]\n",
    "#restricted area\n",
    "arcs.append(mpatches.Arc((0,0), width = 2.5, height = 2.5, theta1=0.0, theta2=180.0, color='black', linewidth=1.5))\n",
    "#free throw half-circle\n",
    "arcs.append(mpatches.Arc((0,4.225), width = 3.6, height = 3.6, theta1=0.0, theta2=180.0, color='black', linewidth=1.5))\n",
    "#3 point line\n",
    "arcs.append(mpatches.Arc((0,0), width = 13.5, height = 13.5, theta1=12.1, theta2=180.0-12.1, color='black', linewidth=1.5))\n",
    "#center circle\n",
    "arcs.append(mpatches.Arc((0, 14), width = 3.6, height = 3.6, theta1=180, theta2=0, color='black', linewidth=1.5))\n",
    "\n",
    "for a in arcs:\n",
    "    ax.add_patch(a)\n",
    "\n",
    "# missed_all=[]\n",
    "# made_all=[]\n",
    "# for team, events in madeshots_team.items():\n",
    "#     for event in events:\n",
    "#         made_all.append((event['coord_x'], event['coord_y']))\n",
    "        \n",
    "# for team, events in missedshots_team.items():\n",
    "#     for event in events:\n",
    "#         missed_all.append((event['coord_x'], event['coord_y']))\n",
    "\n",
    "# scats.append(ax.scatter([float(m[0])/100.0 for m in missed_all], [float(m[1])/100.0 for m in missed_all], 10, edgecolor='none', facecolor='r'))\n",
    "# scats.append(ax.scatter([float(m[0])/100.0 for m in made_all], [float(m[1])/100.0 for m in made_all], 10, edgecolor='none', facecolor='g'))\n",
    "\n",
    "# scats=[]\n",
    "# scats.append(ax.scatter([float(m[0])/100.0 for m in missed], [float(m[1])/100.0 for m in missed], 10, edgecolor='none', facecolor='r'))\n",
    "# scats.append(ax.scatter([float(m[0])/100.0 for m in made], [float(m[1])/100.0 for m in made], 10, edgecolor='none', facecolor='g'))\n",
    "\n",
    "# plt.legend(scats, ('made', 'missed'), loc = 'upper right')\n",
    "\n",
    "#fg% by zone -> heatmap\n",
    "oreb_fg_region_tab\n",
    "norm = matplotlib.colors.Normalize(vmin=-0.04,vmax=0.04)\n",
    "heatmap=cm.get_cmap('RdYlGn')\n",
    "getcolor = lambda x: heatmap(norm(x), alpha=1)\n",
    "\n",
    "#regions = ('2r', '2p', '2m', '3c', '3a')\n",
    "#fill_between\n",
    "#so3\n",
    "x = np.arange(-7.5, 7.5,0.01)\n",
    "line_a3=1.42\n",
    "line_a3_a=10\n",
    "plt.fill_between(x, line_a3_a, line_a3, color=getcolor(oreb_fg_region_tab['3a'][2] - fg_region_tab['3a'][2]))\n",
    "# #rw3\n",
    "# x = np.arange(-7.5, 0,0.01)\n",
    "# line_rw3=-1.7245*x\n",
    "# plt.fill_between(x, line_rw3, color='grey', alpha=1)\n",
    "#lw3\n",
    "x = np.arange(-7.5+0.9, 7.5-0.9,0.01)\n",
    "line_m2=np.sqrt(6.75**2 - x**2)\n",
    "line_m2_a=-1.575\n",
    "plt.fill_between(x, line_m2, line_m2_a, color=getcolor(oreb_fg_region_tab['2m'][2] - fg_region_tab['2m'][2]))\n",
    "# #rw2\n",
    "# x = np.arange(-7.5+0.9, 0,0.01)\n",
    "# line_rw2=np.sqrt(6.75**2 - x**2)\n",
    "# line_rw2_a=1.42\n",
    "# plt.fill_between(x, line_rw2, line_rw2_a, color='y', alpha=1)\n",
    "# #lw2\n",
    "# x = np.arange(0, 7.5-0.9,0.01)\n",
    "# line_rw2=np.sqrt(6.75**2 - x**2)\n",
    "# line_rw2_a=1.42\n",
    "# plt.fill_between(x, line_rw2, line_rw2_a, color='orange', alpha=1)\n",
    "#rc3\n",
    "x = np.arange(-7.5, -7.5+0.9,0.01)\n",
    "line_rc3=1.42\n",
    "line_rc3_a=-1.575\n",
    "plt.fill_between(x, line_rc3, line_rc3_a, color=getcolor(oreb_fg_region_tab['3c'][2] - fg_region_tab['3c'][2]))\n",
    "#lc3\n",
    "x = np.arange(7.5-0.9, 7.5,0.01)\n",
    "line_lc3=1.42\n",
    "line_lc3_a=-1.575\n",
    "plt.fill_between(x, line_lc3, line_lc3_a, color=getcolor(oreb_fg_region_tab['3c'][2] - fg_region_tab['3c'][2]))\n",
    "# #rc2\n",
    "# x = np.arange(-7.5+0.9, -2.45, 0.01)\n",
    "# line_rc2=1.42\n",
    "# line_rc2_a=-1.575\n",
    "# plt.fill_between(x, line_rc2, line_rc2_a, color='g', alpha=1)\n",
    "# #lc2\n",
    "# x = np.arange(2.45, 7.5-0.9, 0.01)\n",
    "# line_lc2=1.42\n",
    "# line_lc2_a=-1.575\n",
    "# plt.fill_between(x, line_lc2, line_lc2_a, color='g', alpha=1)\n",
    "#pt2\n",
    "x = np.arange(-2.45, 2.45, 0.01)\n",
    "line_lc2=4.225\n",
    "line_lc2_a=-1.575\n",
    "plt.fill_between(x, line_lc2, line_lc2_a, color=getcolor(oreb_fg_region_tab['2p'][2] - fg_region_tab['2p'][2]))\n",
    "# #so2\n",
    "# x = np.arange(-2.45, 2.45, 0.01)\n",
    "# line_rw2=np.sqrt(6.75**2 - x**2)\n",
    "# line_rw2_a=4.225\n",
    "# plt.fill_between(x, line_rw2, line_rw2_a, color='r', alpha=1)\n",
    "#ra2\n",
    "x = np.arange(-1.25, 1.25, 0.01)\n",
    "line_ra2=np.sqrt(1.25**2 - x**2)\n",
    "line_ra2_a=-0.375\n",
    "plt.fill_between(x, line_ra2, line_ra2_a, color=getcolor(oreb_fg_region_tab['2r'][2] - fg_region_tab['2r'][2]))\n",
    "\n",
    "ax1 = fig.add_axes([0.05, 0.15, 0.9, 0.025])\n",
    "\n",
    "cmap = matplotlib.cm.RdYlGn\n",
    "norm = matplotlib.colors.Normalize(vmin=-0.04, vmax=0.04)\n",
    "\n",
    "cb1 = matplotlib.colorbar.ColorbarBase(ax1, cmap=cmap,\n",
    "                                norm=norm,\n",
    "                                orientation='horizontal')\n",
    "\n",
    "ax.set_xlim(-8, 8)\n",
    "ax.set_ylim(-2.075, 10)\n",
    "ax.set_aspect('equal')\n",
    "ax.set_xlabel('')\n",
    "ax.set_ylabel('')\n",
    "ax.set_title('FG% difference: after oreb - overall')\n",
    "\n",
    "plt.show()\n",
    "\n"
   ]
  },
  {
   "cell_type": "code",
   "execution_count": null,
   "metadata": {
    "collapsed": false,
    "deletable": true,
    "editable": true,
    "scrolled": true
   },
   "outputs": [],
   "source": [
    "regions = ['3c', '3a', '2m', '2p', '2r']\n",
    "for r in regions:\n",
    "    print(r, oreb_fg_region_tab[r][2] - fg_region_tab[r][2])"
   ]
  }
 ],
 "metadata": {
  "kernelspec": {
   "display_name": "Python 3",
   "language": "python",
   "name": "python3"
  },
  "language_info": {
   "codemirror_mode": {
    "name": "ipython",
    "version": 3
   },
   "file_extension": ".py",
   "mimetype": "text/x-python",
   "name": "python",
   "nbconvert_exporter": "python",
   "pygments_lexer": "ipython3",
   "version": "3.5.3"
  }
 },
 "nbformat": 4,
 "nbformat_minor": 2
}
