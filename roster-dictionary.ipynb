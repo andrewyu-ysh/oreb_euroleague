{
 "cells": [
  {
   "cell_type": "markdown",
   "metadata": {
    "deletable": true,
    "editable": true
   },
   "source": [
    "# Total of 7455 entries, 389 players, 24 games_team_id, 250 games (listify me)"
   ]
  },
  {
   "cell_type": "markdown",
   "metadata": {
    "deletable": true,
    "editable": true
   },
   "source": [
    "## Roster Formatting\n",
    "* each entry notes one player in roster for one game\n",
    "* players that don't play are listed (i.e. minutes played = 0)"
   ]
  },
  {
   "cell_type": "markdown",
   "metadata": {
    "deletable": true,
    "editable": true
   },
   "source": [
    "### Build Dictionary"
   ]
  },
  {
   "cell_type": "code",
   "execution_count": 2,
   "metadata": {
    "collapsed": true,
    "deletable": true,
    "editable": true
   },
   "outputs": [],
   "source": [
    "import csv"
   ]
  },
  {
   "cell_type": "markdown",
   "metadata": {
    "deletable": true,
    "editable": true
   },
   "source": [
    "add 'index' fieldname"
   ]
  },
  {
   "cell_type": "raw",
   "metadata": {
    "collapsed": false,
    "deletable": true,
    "editable": true
   },
   "source": [
    "f = open('DataChallengeEuroGameRoster.csv')\n",
    "\n",
    "f.seek(0)\n",
    "s = f.read()\n",
    "s = 'index' + s\n",
    "f.close()\n",
    "\n",
    "fout = open('roster.csv', 'w')\n",
    "fout.write(s)\n",
    "fout.close()"
   ]
  },
  {
   "cell_type": "markdown",
   "metadata": {
    "deletable": true,
    "editable": true
   },
   "source": [
    "create roster dictionary"
   ]
  },
  {
   "cell_type": "code",
   "execution_count": 3,
   "metadata": {
    "collapsed": false,
    "deletable": true,
    "editable": true
   },
   "outputs": [],
   "source": [
    "f = open('roster.csv', 'r')\n",
    "reader = csv.DictReader(f, delimiter=',', quotechar='\"')\n",
    "roster=[]\n",
    "for line in reader:\n",
    "    roster.append(line)\n",
    "f.close()"
   ]
  },
  {
   "cell_type": "markdown",
   "metadata": {
    "deletable": true,
    "editable": true
   },
   "source": [
    "### Housekeeping / Basic stats"
   ]
  },
  {
   "cell_type": "code",
   "execution_count": 4,
   "metadata": {
    "collapsed": false,
    "deletable": true,
    "editable": true
   },
   "outputs": [
    {
     "data": {
      "text/plain": [
       "7455"
      ]
     },
     "execution_count": 4,
     "metadata": {},
     "output_type": "execute_result"
    }
   ],
   "source": [
    "len(roster)"
   ]
  },
  {
   "cell_type": "markdown",
   "metadata": {
    "collapsed": true,
    "deletable": true,
    "editable": true
   },
   "source": [
    "sample row (POOR CHRISTIAN EYENGA!)"
   ]
  },
  {
   "cell_type": "code",
   "execution_count": 5,
   "metadata": {
    "collapsed": false,
    "deletable": true,
    "editable": true,
    "scrolled": true
   },
   "outputs": [
    {
     "data": {
      "text/plain": [
       "{'gamecode': '11',\n",
       " 'index': '300',\n",
       " 'mp': '28:16',\n",
       " 'mp_as_int': '1696.0',\n",
       " 'player_id': 'P001176',\n",
       " 'player_jersey_number': '31',\n",
       " 'player_name': 'EYENGA, CHRISTIAN',\n",
       " 'seasoncode': 'E2015',\n",
       " 'starter_flag': '1',\n",
       " 'team_id': 'SAS'}"
      ]
     },
     "execution_count": 5,
     "metadata": {},
     "output_type": "execute_result"
    }
   ],
   "source": [
    "roster[300]"
   ]
  },
  {
   "cell_type": "code",
   "execution_count": 36,
   "metadata": {
    "collapsed": false,
    "deletable": true,
    "editable": true
   },
   "outputs": [
    {
     "name": "stdout",
     "output_type": "stream",
     "text": [
      "250\n"
     ]
    },
    {
     "data": {
      "text/plain": [
       "'1'"
      ]
     },
     "execution_count": 36,
     "metadata": {},
     "output_type": "execute_result"
    }
   ],
   "source": [
    "gamecodes=[]\n",
    "for r in roster:\n",
    "    if r['gamecode'] not in gamecodes:\n",
    "        gamecodes.append(r['gamecode'])\n",
    "print(len(gamecodes))"
   ]
  },
  {
   "cell_type": "code",
   "execution_count": 7,
   "metadata": {
    "collapsed": false,
    "deletable": true,
    "editable": true,
    "scrolled": true
   },
   "outputs": [
    {
     "data": {
      "text/plain": [
       "24"
      ]
     },
     "execution_count": 7,
     "metadata": {},
     "output_type": "execute_result"
    }
   ],
   "source": [
    "teamids=[]\n",
    "for r in roster:\n",
    "    if r['team_id'] not in teamids:\n",
    "        teamids.append(r['team_id'])\n",
    "len(teamids)"
   ]
  },
  {
   "cell_type": "markdown",
   "metadata": {
    "deletable": true,
    "editable": true
   },
   "source": [
    "Number of players"
   ]
  },
  {
   "cell_type": "code",
   "execution_count": 8,
   "metadata": {
    "collapsed": false,
    "deletable": true,
    "editable": true
   },
   "outputs": [
    {
     "data": {
      "text/plain": [
       "390"
      ]
     },
     "execution_count": 8,
     "metadata": {},
     "output_type": "execute_result"
    }
   ],
   "source": [
    "playerids=[]\n",
    "for r in roster:\n",
    "    if r['player_id'] not in playerids:\n",
    "        playerids.append(r['player_id'])\n",
    "len(playerids)"
   ]
  },
  {
   "cell_type": "markdown",
   "metadata": {
    "deletable": true,
    "editable": true
   },
   "source": [
    "check traded(?) players"
   ]
  },
  {
   "cell_type": "code",
   "execution_count": 9,
   "metadata": {
    "collapsed": false,
    "deletable": true,
    "editable": true
   },
   "outputs": [
    {
     "data": {
      "text/plain": [
       "395"
      ]
     },
     "execution_count": 9,
     "metadata": {},
     "output_type": "execute_result"
    }
   ],
   "source": [
    "playernames=[]\n",
    "for r in roster:\n",
    "    if r['player_name'] not in playernames:\n",
    "        playernames.append(r['player_name'])\n",
    "len(playernames)"
   ]
  },
  {
   "cell_type": "markdown",
   "metadata": {
    "deletable": true,
    "editable": true
   },
   "source": [
    "resolve playername/playerid discrepancy"
   ]
  },
  {
   "cell_type": "code",
   "execution_count": 10,
   "metadata": {
    "collapsed": false,
    "deletable": true,
    "editable": true
   },
   "outputs": [
    {
     "data": {
      "text/plain": [
       "396"
      ]
     },
     "execution_count": 10,
     "metadata": {},
     "output_type": "execute_result"
    }
   ],
   "source": [
    "idnames=[]\n",
    "for r in roster:\n",
    "    if (r['player_id'], r['player_name']) not in idnames:\n",
    "        idnames.append((r['player_id'], r['player_name']))\n",
    "len(idnames)"
   ]
  },
  {
   "cell_type": "code",
   "execution_count": 11,
   "metadata": {
    "collapsed": false,
    "deletable": true,
    "editable": true
   },
   "outputs": [
    {
     "name": "stdout",
     "output_type": "stream",
     "text": [
      "{'P007016', 'P006648', 'P004264', 'P005367', 'P001389', 'P005983'}\n"
     ]
    }
   ],
   "source": [
    "dupeids = set([id for id in [idname[0] for idname in idnames] if [idname[0] for idname in idnames].count(id) > 1])\n",
    "print(dupeids)"
   ]
  },
  {
   "cell_type": "code",
   "execution_count": 12,
   "metadata": {
    "collapsed": false,
    "deletable": true,
    "editable": true
   },
   "outputs": [
    {
     "name": "stdout",
     "output_type": "stream",
     "text": [
      "{'YURTSEVEN, OMER'}\n"
     ]
    }
   ],
   "source": [
    "dupenames = set([player for player in [idname[1] for idname in idnames] if [idname[1] for idname in idnames].count(player) > 1])\n",
    "print(dupenames)"
   ]
  },
  {
   "cell_type": "markdown",
   "metadata": {
    "deletable": true,
    "editable": true
   },
   "source": [
    "player with same player_name, 2 different player_ids ('P005983', 'P005353')"
   ]
  },
  {
   "cell_type": "code",
   "execution_count": 13,
   "metadata": {
    "collapsed": false,
    "deletable": true,
    "editable": true
   },
   "outputs": [
    {
     "name": "stdout",
     "output_type": "stream",
     "text": [
      "{'mp_as_int': '227.0', 'starter_flag': '0', 'player_jersey_number': '14', 'index': '402', 'player_name': 'YURTSEVEN, OMER', 'gamecode': '14', 'mp': '03:47', 'team_id': 'ULK', 'seasoncode': 'E2015', 'player_id': 'P005983'}\n",
      "{'mp_as_int': '339.0', 'starter_flag': '0', 'player_jersey_number': '14', 'index': '1126', 'player_name': 'YURTSEVEN, OMER', 'gamecode': '39', 'mp': '05:39', 'team_id': 'ULK', 'seasoncode': 'E2015', 'player_id': 'P005353'}\n",
      "------------------------------\n"
     ]
    }
   ],
   "source": [
    "for d in dupenames:\n",
    "    temp=[]\n",
    "    for r in roster:\n",
    "        if r['player_name'] == d:\n",
    "            if r['player_id'] not in temp:\n",
    "                temp.append(r['player_id'])\n",
    "                print(r)\n",
    "    print('-'*30)"
   ]
  },
  {
   "cell_type": "code",
   "execution_count": 14,
   "metadata": {
    "collapsed": false,
    "deletable": true,
    "editable": true,
    "scrolled": true
   },
   "outputs": [
    {
     "name": "stdout",
     "output_type": "stream",
     "text": [
      "{'mp_as_int': '125.0', 'starter_flag': '0', 'player_jersey_number': '14', 'index': '83', 'player_name': 'YURTSEVEN, OMER FARUK', 'gamecode': '3', 'mp': '02:05', 'team_id': 'ULK', 'seasoncode': 'E2015', 'player_id': 'P005983'}\n",
      "{'mp_as_int': '227.0', 'starter_flag': '0', 'player_jersey_number': '14', 'index': '402', 'player_name': 'YURTSEVEN, OMER', 'gamecode': '14', 'mp': '03:47', 'team_id': 'ULK', 'seasoncode': 'E2015', 'player_id': 'P005983'}\n",
      "{'mp_as_int': '0.0', 'starter_flag': '0', 'player_jersey_number': '14', 'index': '749', 'player_name': 'YURTSEVEN, OMER FARUK', 'gamecode': '26', 'mp': '00:00', 'team_id': 'ULK', 'seasoncode': 'E2015', 'player_id': 'P005983'}\n",
      "{'mp_as_int': '339.0', 'starter_flag': '0', 'player_jersey_number': '14', 'index': '1126', 'player_name': 'YURTSEVEN, OMER', 'gamecode': '39', 'mp': '05:39', 'team_id': 'ULK', 'seasoncode': 'E2015', 'player_id': 'P005353'}\n",
      "{'mp_as_int': '0.0', 'starter_flag': '0', 'player_jersey_number': '14', 'index': '1416', 'player_name': 'YURTSEVEN, OMER', 'gamecode': '49', 'mp': '00:00', 'team_id': 'ULK', 'seasoncode': 'E2015', 'player_id': 'P005353'}\n",
      "{'mp_as_int': '98.0', 'starter_flag': '0', 'player_jersey_number': '14', 'index': '1828', 'player_name': 'YURTSEVEN, OMER', 'gamecode': '63', 'mp': '01:38', 'team_id': 'ULK', 'seasoncode': 'E2015', 'player_id': 'P005353'}\n",
      "{'mp_as_int': '347.0', 'starter_flag': '0', 'player_jersey_number': '14', 'index': '2145', 'player_name': 'YURTSEVEN, OMER', 'gamecode': '74', 'mp': '05:47', 'team_id': 'ULK', 'seasoncode': 'E2015', 'player_id': 'P005353'}\n",
      "{'mp_as_int': '693.0', 'starter_flag': '0', 'player_jersey_number': '14', 'index': '2496', 'player_name': 'YURTSEVEN, OMER', 'gamecode': '86', 'mp': '11:33', 'team_id': 'ULK', 'seasoncode': 'E2015', 'player_id': 'P005353'}\n",
      "{'mp_as_int': '154.0', 'starter_flag': '0', 'player_jersey_number': '14', 'index': '2876', 'player_name': 'YURTSEVEN, OMER', 'gamecode': '99', 'mp': '02:34', 'team_id': 'ULK', 'seasoncode': 'E2015', 'player_id': 'P005353'}\n",
      "{'mp_as_int': '0.0', 'starter_flag': '0', 'player_jersey_number': '14', 'index': '3166', 'player_name': 'YURTSEVEN, OMER', 'gamecode': '109', 'mp': '00:00', 'team_id': 'ULK', 'seasoncode': 'E2015', 'player_id': 'P005353'}\n",
      "{'mp_as_int': '0.0', 'starter_flag': '0', 'player_jersey_number': '14', 'index': '3609', 'player_name': 'YURTSEVEN, OMER', 'gamecode': '124', 'mp': '00:00', 'team_id': 'ULK', 'seasoncode': 'E2015', 'player_id': 'P005353'}\n",
      "{'mp_as_int': '0.0', 'starter_flag': '0', 'player_jersey_number': '14', 'index': '3793', 'player_name': 'YURTSEVEN, OMER', 'gamecode': '130', 'mp': '00:00', 'team_id': 'ULK', 'seasoncode': 'E2015', 'player_id': 'P005353'}\n",
      "{'mp_as_int': '0.0', 'starter_flag': '0', 'player_jersey_number': '14', 'index': '4063', 'player_name': 'YURTSEVEN, OMER', 'gamecode': '139', 'mp': '00:00', 'team_id': 'ULK', 'seasoncode': 'E2015', 'player_id': 'P005353'}\n",
      "{'mp_as_int': '0.0', 'starter_flag': '0', 'player_jersey_number': '14', 'index': '4308', 'player_name': 'YURTSEVEN, OMER', 'gamecode': '147', 'mp': '00:00', 'team_id': 'ULK', 'seasoncode': 'E2015', 'player_id': 'P005353'}\n",
      "{'mp_as_int': '251.0', 'starter_flag': '0', 'player_jersey_number': '14', 'index': '4518', 'player_name': 'YURTSEVEN, OMER', 'gamecode': '154', 'mp': '04:11', 'team_id': 'ULK', 'seasoncode': 'E2015', 'player_id': 'P005353'}\n",
      "{'mp_as_int': '0.0', 'starter_flag': '0', 'player_jersey_number': '14', 'index': '4814', 'player_name': 'YURTSEVEN, OMER', 'gamecode': '164', 'mp': '00:00', 'team_id': 'ULK', 'seasoncode': 'E2015', 'player_id': 'P005353'}\n",
      "{'mp_as_int': '0.0', 'starter_flag': '0', 'player_jersey_number': '14', 'index': '4964', 'player_name': 'YURTSEVEN, OMER', 'gamecode': '169', 'mp': '00:00', 'team_id': 'ULK', 'seasoncode': 'E2015', 'player_id': 'P005353'}\n",
      "{'mp_as_int': '0.0', 'starter_flag': '0', 'player_jersey_number': '14', 'index': '5296', 'player_name': 'YURTSEVEN, OMER', 'gamecode': '180', 'mp': '00:00', 'team_id': 'ULK', 'seasoncode': 'E2015', 'player_id': 'P005353'}\n",
      "{'mp_as_int': '0.0', 'starter_flag': '0', 'player_jersey_number': '14', 'index': '5481', 'player_name': 'YURTSEVEN, OMER', 'gamecode': '186', 'mp': '00:00', 'team_id': 'ULK', 'seasoncode': 'E2015', 'player_id': 'P005353'}\n",
      "{'mp_as_int': '0.0', 'starter_flag': '0', 'player_jersey_number': '14', 'index': '5758', 'player_name': 'YURTSEVEN, OMER', 'gamecode': '195', 'mp': '00:00', 'team_id': 'ULK', 'seasoncode': 'E2015', 'player_id': 'P005353'}\n",
      "{'mp_as_int': '0.0', 'starter_flag': '0', 'player_jersey_number': '14', 'index': '6006', 'player_name': 'YURTSEVEN, OMER', 'gamecode': '203', 'mp': '00:00', 'team_id': 'ULK', 'seasoncode': 'E2015', 'player_id': 'P005353'}\n",
      "{'mp_as_int': '0.0', 'starter_flag': '0', 'player_jersey_number': '14', 'index': '6219', 'player_name': 'YURTSEVEN, OMER', 'gamecode': '210', 'mp': '00:00', 'team_id': 'ULK', 'seasoncode': 'E2015', 'player_id': 'P005353'}\n",
      "{'mp_as_int': '0.0', 'starter_flag': '0', 'player_jersey_number': '14', 'index': '6528', 'player_name': 'YURTSEVEN, OMER', 'gamecode': '220', 'mp': '00:00', 'team_id': 'ULK', 'seasoncode': 'E2015', 'player_id': 'P005353'}\n",
      "{'mp_as_int': '0.0', 'starter_flag': '0', 'player_jersey_number': '14', 'index': '6680', 'player_name': 'YURTSEVEN, OMER', 'gamecode': '225', 'mp': '00:00', 'team_id': 'ULK', 'seasoncode': 'E2015', 'player_id': 'P005353'}\n",
      "{'mp_as_int': '0.0', 'starter_flag': '0', 'player_jersey_number': '14', 'index': '6927', 'player_name': 'YURTSEVEN, OMER', 'gamecode': '233', 'mp': '00:00', 'team_id': 'ULK', 'seasoncode': 'E2015', 'player_id': 'P005353'}\n",
      "{'mp_as_int': '0.0', 'starter_flag': '0', 'player_jersey_number': '14', 'index': '7051', 'player_name': 'YURTSEVEN, OMER', 'gamecode': '237', 'mp': '00:00', 'team_id': 'ULK', 'seasoncode': 'E2015', 'player_id': 'P005353'}\n",
      "{'mp_as_int': '0.0', 'starter_flag': '0', 'player_jersey_number': '14', 'index': '7175', 'player_name': 'YURTSEVEN, OMER', 'gamecode': '241', 'mp': '00:00', 'team_id': 'ULK', 'seasoncode': 'E2015', 'player_id': 'P005353'}\n",
      "{'mp_as_int': '0.0', 'starter_flag': '0', 'player_jersey_number': '14', 'index': '7359', 'player_name': 'YURTSEVEN, OMER', 'gamecode': '247', 'mp': '00:00', 'team_id': 'ULK', 'seasoncode': 'E2015', 'player_id': 'P005353'}\n",
      "{'mp_as_int': '0.0', 'starter_flag': '0', 'player_jersey_number': '14', 'index': '7450', 'player_name': 'YURTSEVEN, OMER', 'gamecode': '250', 'mp': '00:00', 'team_id': 'ULK', 'seasoncode': 'E2015', 'player_id': 'P005353'}\n"
     ]
    }
   ],
   "source": [
    "for r in roster:\n",
    "    if r['player_id'] == 'P005983' or r['player_id'] == 'P005353':\n",
    "        print(r)"
   ]
  },
  {
   "cell_type": "markdown",
   "metadata": {
    "collapsed": true,
    "deletable": true,
    "editable": true
   },
   "source": [
    "players with same player_id, different player_name"
   ]
  },
  {
   "cell_type": "code",
   "execution_count": 15,
   "metadata": {
    "collapsed": false,
    "deletable": true,
    "editable": true,
    "scrolled": true
   },
   "outputs": [
    {
     "name": "stdout",
     "output_type": "stream",
     "text": [
      "{'mp_as_int': '0.0', 'starter_flag': '0', 'player_jersey_number': '2', 'index': '5251', 'player_name': 'JOHNSON, ELIJAH KWAME', 'gamecode': '179', 'mp': '00:00', 'team_id': 'IST', 'seasoncode': 'E2015', 'player_id': 'P007016'}\n",
      "{'mp_as_int': '0.0', 'starter_flag': '0', 'player_jersey_number': '1', 'index': '5500', 'player_name': 'JOHNSON, ELIJAH', 'gamecode': '187', 'mp': '00:00', 'team_id': 'IST', 'seasoncode': 'E2015', 'player_id': 'P007016'}\n",
      "------------------------------\n",
      "{'mp_as_int': '0.0', 'starter_flag': '0', 'player_jersey_number': '3', 'index': '156', 'player_name': 'BAYCAN OGULCAN', 'gamecode': '6', 'mp': '00:00', 'team_id': 'IST', 'seasoncode': 'E2015', 'player_id': 'P006648'}\n",
      "{'mp_as_int': '0.0', 'starter_flag': '0', 'player_jersey_number': '3', 'index': '450', 'player_name': 'BAYKAN, OGULCAN', 'gamecode': '16', 'mp': '00:00', 'team_id': 'IST', 'seasoncode': 'E2015', 'player_id': 'P006648'}\n",
      "------------------------------\n",
      "{'mp_as_int': '1168.0', 'starter_flag': '0', 'player_jersey_number': '1', 'index': '177', 'player_name': 'BOST, DEMARQUIS', 'gamecode': '7', 'mp': '19:28', 'team_id': 'GSS', 'seasoncode': 'E2015', 'player_id': 'P004264'}\n",
      "{'mp_as_int': '1115.0', 'starter_flag': '0', 'player_jersey_number': '1', 'index': '542', 'player_name': 'BOST, DEE', 'gamecode': '19', 'mp': '18:35', 'team_id': 'GSS', 'seasoncode': 'E2015', 'player_id': 'P004264'}\n",
      "------------------------------\n",
      "{'mp_as_int': '0.0', 'starter_flag': '0', 'player_jersey_number': '', 'index': '278', 'player_name': 'UTA, RARES', 'gamecode': '10', 'mp': '00:00', 'team_id': 'MAL', 'seasoncode': 'E2015', 'player_id': 'P005367'}\n",
      "{'mp_as_int': '0.0', 'starter_flag': '0', 'player_jersey_number': '3', 'index': '3520', 'player_name': 'UTA, CHISTIAN', 'gamecode': '121', 'mp': '00:00', 'team_id': 'MAL', 'seasoncode': 'E2015', 'player_id': 'P005367'}\n",
      "------------------------------\n",
      "{'mp_as_int': '1047.0', 'starter_flag': '1', 'player_jersey_number': '18', 'index': '213', 'player_name': 'VORONOV, EUGENY', 'gamecode': '8', 'mp': '17:27', 'team_id': 'TIV', 'seasoncode': 'E2015', 'player_id': 'P001389'}\n",
      "{'mp_as_int': '1495.0', 'starter_flag': '1', 'player_jersey_number': '18', 'index': '578', 'player_name': 'VORONOV, EVGENY', 'gamecode': '21', 'mp': '24:55', 'team_id': 'TIV', 'seasoncode': 'E2015', 'player_id': 'P001389'}\n",
      "------------------------------\n",
      "{'mp_as_int': '125.0', 'starter_flag': '0', 'player_jersey_number': '14', 'index': '83', 'player_name': 'YURTSEVEN, OMER FARUK', 'gamecode': '3', 'mp': '02:05', 'team_id': 'ULK', 'seasoncode': 'E2015', 'player_id': 'P005983'}\n",
      "{'mp_as_int': '227.0', 'starter_flag': '0', 'player_jersey_number': '14', 'index': '402', 'player_name': 'YURTSEVEN, OMER', 'gamecode': '14', 'mp': '03:47', 'team_id': 'ULK', 'seasoncode': 'E2015', 'player_id': 'P005983'}\n",
      "------------------------------\n"
     ]
    }
   ],
   "source": [
    "for d in dupeids:\n",
    "    temp=[]\n",
    "    for r in roster:\n",
    "        if r['player_id'] == d:\n",
    "            if r['player_name'] not in temp:\n",
    "                temp.append(r['player_name'])\n",
    "                print(r)\n",
    "    print('-'*30)"
   ]
  },
  {
   "cell_type": "code",
   "execution_count": 32,
   "metadata": {
    "collapsed": false
   },
   "outputs": [],
   "source": [
    "games_gamecode={}\n",
    "for r in roster:\n",
    "    if r['gamecode'] not in games_gamecode.keys():\n",
    "        games_gamecode[r['gamecode']]=[]\n",
    "    if r['team_id'] not in games_gamecode[r['gamecode']]:\n",
    "        games_gamecode[r['gamecode']].append(r['team_id'])\n",
    "        if len(games_gamecode[r['gamecode']]) > 2:\n",
    "            print('ERROR:', str(r['gamecode']), r)"
   ]
  },
  {
   "cell_type": "code",
   "execution_count": 34,
   "metadata": {
    "collapsed": false
   },
   "outputs": [
    {
     "name": "stdout",
     "output_type": "stream",
     "text": [
      "PAN 27\n",
      "ULK 29\n",
      "DAR 24\n",
      "STR 10\n",
      "RED 27\n",
      "KSK 10\n",
      "MUN 10\n",
      "CSK 29\n",
      "KHI 24\n",
      "LMG 10\n",
      "MAL 24\n",
      "TEL 10\n",
      "BAS 29\n",
      "OLY 24\n",
      "CED 24\n",
      "SAS 10\n",
      "ZAL 24\n",
      "BAR 29\n",
      "MIL 10\n",
      "BAM 24\n",
      "IST 24\n",
      "GSS 10\n",
      "MAD 27\n",
      "TIV 31\n"
     ]
    }
   ],
   "source": [
    "games_team_id={}\n",
    "for t in teamids:\n",
    "    games_team_id[t]=[]\n",
    "for key, g in games.items():\n",
    "    for t in teamids:\n",
    "        if g[0] == t or g[1] == t:\n",
    "            games_team_id[t].append((key, g))\n",
    "            \n",
    "for key, t in games_team_id.items():\n",
    "    print(key, len(t))"
   ]
  }
 ],
 "metadata": {
  "kernelspec": {
   "display_name": "Python 3",
   "language": "python",
   "name": "python3"
  },
  "language_info": {
   "codemirror_mode": {
    "name": "ipython",
    "version": 3
   },
   "file_extension": ".py",
   "mimetype": "text/x-python",
   "name": "python",
   "nbconvert_exporter": "python",
   "pygments_lexer": "ipython3",
   "version": "3.5.2"
  }
 },
 "nbformat": 4,
 "nbformat_minor": 2
}
